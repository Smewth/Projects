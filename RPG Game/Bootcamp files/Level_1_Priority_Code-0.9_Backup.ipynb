{
 "cells": [
  {
   "cell_type": "markdown",
   "id": "f96cee10",
   "metadata": {},
   "source": [
    "## Current objectives"
   ]
  },
  {
   "cell_type": "code",
   "execution_count": null,
   "id": "7893849b",
   "metadata": {},
   "outputs": [],
   "source": [
    "# Right now i want to make sure the game keeps going if i kill the goblin and it resets with a new goblin\n",
    "# Fix the health bar not correctly staying the same size while they lose health\n",
    "# The defend function doesn't have much use, need to implement mechanics for it\n",
    "# Make it so characters' health can't go below zero\n",
    "# Make it so the first input() shows up in the top and not in the bottom"
   ]
  },
  {
   "cell_type": "markdown",
   "id": "ce54efea",
   "metadata": {},
   "source": [
    "## Ideas"
   ]
  },
  {
   "cell_type": "code",
   "execution_count": null,
   "id": "30ff5e20",
   "metadata": {},
   "outputs": [],
   "source": []
  },
  {
   "cell_type": "markdown",
   "id": "fac56fcb",
   "metadata": {},
   "source": [
    "## Completed objectives "
   ]
  },
  {
   "cell_type": "code",
   "execution_count": null,
   "id": "11c49830",
   "metadata": {},
   "outputs": [],
   "source": [
    "# (very) Simple DND based combat:\n",
    "        # Death state\n",
    "        # Randomizer for the damage each hit does\n",
    "        # Menus\n",
    "# Stats of player character\n",
    "    # Mostly STR, VIT\n",
    "# Stats of several different NPC's\n",
    "    # Can be a bit more basic here but yea, it's mostly the same\n",
    "# I also need to do some visual presentation using the clear_output() command"
   ]
  },
  {
   "cell_type": "markdown",
   "id": "3f1eaf0a",
   "metadata": {},
   "source": [
    "## Things i learned throughout "
   ]
  },
  {
   "cell_type": "code",
   "execution_count": null,
   "id": "2059f369",
   "metadata": {},
   "outputs": [],
   "source": [
    "# What they told us from planning it out from the beggining, it is true, i ran into problems when trying to implement the \n",
    "# game_board() function after a while, although i couldn't really imagine the project at first so i couldn't prepare for it.\n",
    "# maybe talk a little about how you solved it:\n",
    "    # I tried to find where to fit the function but couldn't find it, eventually found the solution to put it in the attack\n",
    "    # function, although i had to alter it to make both characters attack in the same function, this experience in problem\n",
    "    # solving was excellent.\n",
    "# Not being able to rely on chatgpt was also excellent, at first i used it as a crutch but here i already had enough things\n",
    "# learned to do a good job, and it felt good to know i had enough, i felt a huge dopamine rush every time i solved a problem\n",
    "# and i still find coding like sort of a game\n",
    "\n",
    "# Talk about the damage formula"
   ]
  },
  {
   "cell_type": "markdown",
   "id": "8c6ff1cd",
   "metadata": {},
   "source": [
    "# Game Logic - Putting it all together"
   ]
  },
  {
   "cell_type": "code",
   "execution_count": 20,
   "id": "59dfdd5e",
   "metadata": {},
   "outputs": [
    {
     "name": "stdout",
     "output_type": "stream",
     "text": [
      "\n",
      "      ,      ,     \n",
      "     /(.----.)\\    \n",
      " |\\  \\/      \\/  /|\n",
      " | \\ / =.  .= \\ / |\n",
      " \\( \\   o\\/o   / )/\n",
      "  \\_, '-/  \\-' ,_/ \n",
      "    /   \\__/   \\   \n",
      "    \\ \\__/\\__/ /   \n",
      "  ___\\ \\|--|/ /___ \n",
      " /`   \\      /    `\\ \n",
      "/      '----'       \\ \n",
      "\n",
      "|------------------------------|\n",
      "         100%\n",
      "\n",
      "                   _.--.    .--._\n",
      "                 .\"  .\"      \".  \".\n",
      "                ;  .\"    /\\    \".  ;\n",
      "                ;  '._,-/  \\-,_.`  ;\n",
      "                \\  ,`  / /\\ \\  `,  /\n",
      "                 \\/    \\/  \\/    \\/\n",
      "                 ,=_    \\/\\/    _=,\n",
      "                 |  \"_   \\/   _\"  |\n",
      "                 |_   '\"-..-\"'   _|\n",
      "                 | \"-.        .-\" |\n",
      "                 |    \"\\    /\"    |\n",
      "                 |      |  |      |\n",
      "         ___     |      |  |      |     ___\n",
      "     _,-\",  \",   '_     |  |     _'   ,\"  ,\"-,_\n",
      "   _(  \\  \\   \\\"=--\"-.  |  |  .-\"--=\"/   /  /  )_\n",
      " ,\"  \\  \\  \\   \\      \"-'--'-\"      /   /  /  /  \".\n",
      "!     \\  \\  \\   \\                  /   /  /  /     !\n",
      ":      \\  \\  \\   \\                /   /  /  /      TK\n",
      "\n",
      "|--------------------|\n",
      "         100%\n",
      "What do you do? (type 'c' to figure out your options)\n",
      "a\n",
      "What do you do? (type 'c' to figure out your options)\n",
      "c\n"
     ]
    },
    {
     "ename": "KeyboardInterrupt",
     "evalue": "Interrupted by user",
     "output_type": "error",
     "traceback": [
      "\u001b[1;31m---------------------------------------------------------------------------\u001b[0m",
      "\u001b[1;31mKeyboardInterrupt\u001b[0m                         Traceback (most recent call last)",
      "Cell \u001b[1;32mIn[20], line 11\u001b[0m\n\u001b[0;32m      7\u001b[0m game_board()\n\u001b[0;32m      9\u001b[0m \u001b[38;5;66;03m# Defining stats for the characters\u001b[39;00m\n\u001b[1;32m---> 11\u001b[0m play_game()\n\u001b[0;32m     13\u001b[0m \u001b[38;5;28;01mif\u001b[39;00m player_death(player_stats):\n\u001b[0;32m     14\u001b[0m     \u001b[38;5;28mprint\u001b[39m(\u001b[38;5;124m\"\u001b[39m\u001b[38;5;124mIt seems you have died, better luck next time!\u001b[39m\u001b[38;5;130;01m\\n\u001b[39;00m\u001b[38;5;124m\"\u001b[39m)\n",
      "Cell \u001b[1;32mIn[19], line 3\u001b[0m, in \u001b[0;36mplay_game\u001b[1;34m()\u001b[0m\n\u001b[0;32m      1\u001b[0m \u001b[38;5;28;01mdef\u001b[39;00m \u001b[38;5;21mplay_game\u001b[39m():\n\u001b[0;32m      2\u001b[0m     \u001b[38;5;28;01mwhile\u001b[39;00m \u001b[38;5;129;01mnot\u001b[39;00m player_death(player_stats) \u001b[38;5;129;01mand\u001b[39;00m \u001b[38;5;129;01mnot\u001b[39;00m enemy_death(goblin_stats):\n\u001b[1;32m----> 3\u001b[0m         current_input \u001b[38;5;241m=\u001b[39m \u001b[38;5;28minput\u001b[39m(\u001b[38;5;124m\"\u001b[39m\u001b[38;5;124mWhat do you do? (type \u001b[39m\u001b[38;5;124m'\u001b[39m\u001b[38;5;124mc\u001b[39m\u001b[38;5;124m'\u001b[39m\u001b[38;5;124m to figure out your options)\u001b[39m\u001b[38;5;130;01m\\n\u001b[39;00m\u001b[38;5;124m\"\u001b[39m)\n\u001b[0;32m      4\u001b[0m     \u001b[38;5;28;01mif\u001b[39;00m current_input\u001b[38;5;241m.\u001b[39mlower() \u001b[38;5;241m==\u001b[39m \u001b[38;5;124m\"\u001b[39m\u001b[38;5;124mc\u001b[39m\u001b[38;5;124m\"\u001b[39m \u001b[38;5;129;01mor\u001b[39;00m current_input\u001b[38;5;241m.\u001b[39mlower() \u001b[38;5;241m==\u001b[39m \u001b[38;5;124m\"\u001b[39m\u001b[38;5;124mc\u001b[39m\u001b[38;5;124m\"\u001b[39m:\n\u001b[0;32m      5\u001b[0m         \u001b[38;5;28mprint\u001b[39m(\u001b[38;5;124m\"\u001b[39m\u001b[38;5;124mYou can \u001b[39m\u001b[38;5;124m'\u001b[39m\u001b[38;5;124mattack\u001b[39m\u001b[38;5;124m'\u001b[39m\u001b[38;5;124m (a), \u001b[39m\u001b[38;5;124m'\u001b[39m\u001b[38;5;124mdefend\u001b[39m\u001b[38;5;124m'\u001b[39m\u001b[38;5;124m (d), and \u001b[39m\u001b[38;5;124m'\u001b[39m\u001b[38;5;124mrun\u001b[39m\u001b[38;5;124m'\u001b[39m\u001b[38;5;124m(r)\u001b[39m\u001b[38;5;130;01m\\n\u001b[39;00m\u001b[38;5;124m\"\u001b[39m)\n",
      "File \u001b[1;32m~\\anaconda3\\Lib\\site-packages\\ipykernel\\kernelbase.py:1175\u001b[0m, in \u001b[0;36mKernel.raw_input\u001b[1;34m(self, prompt)\u001b[0m\n\u001b[0;32m   1171\u001b[0m \u001b[38;5;28;01mif\u001b[39;00m \u001b[38;5;129;01mnot\u001b[39;00m \u001b[38;5;28mself\u001b[39m\u001b[38;5;241m.\u001b[39m_allow_stdin:\n\u001b[0;32m   1172\u001b[0m     \u001b[38;5;28;01mraise\u001b[39;00m StdinNotImplementedError(\n\u001b[0;32m   1173\u001b[0m         \u001b[38;5;124m\"\u001b[39m\u001b[38;5;124mraw_input was called, but this frontend does not support input requests.\u001b[39m\u001b[38;5;124m\"\u001b[39m\n\u001b[0;32m   1174\u001b[0m     )\n\u001b[1;32m-> 1175\u001b[0m \u001b[38;5;28;01mreturn\u001b[39;00m \u001b[38;5;28mself\u001b[39m\u001b[38;5;241m.\u001b[39m_input_request(\n\u001b[0;32m   1176\u001b[0m     \u001b[38;5;28mstr\u001b[39m(prompt),\n\u001b[0;32m   1177\u001b[0m     \u001b[38;5;28mself\u001b[39m\u001b[38;5;241m.\u001b[39m_parent_ident[\u001b[38;5;124m\"\u001b[39m\u001b[38;5;124mshell\u001b[39m\u001b[38;5;124m\"\u001b[39m],\n\u001b[0;32m   1178\u001b[0m     \u001b[38;5;28mself\u001b[39m\u001b[38;5;241m.\u001b[39mget_parent(\u001b[38;5;124m\"\u001b[39m\u001b[38;5;124mshell\u001b[39m\u001b[38;5;124m\"\u001b[39m),\n\u001b[0;32m   1179\u001b[0m     password\u001b[38;5;241m=\u001b[39m\u001b[38;5;28;01mFalse\u001b[39;00m,\n\u001b[0;32m   1180\u001b[0m )\n",
      "File \u001b[1;32m~\\anaconda3\\Lib\\site-packages\\ipykernel\\kernelbase.py:1217\u001b[0m, in \u001b[0;36mKernel._input_request\u001b[1;34m(self, prompt, ident, parent, password)\u001b[0m\n\u001b[0;32m   1214\u001b[0m             \u001b[38;5;28;01mbreak\u001b[39;00m\n\u001b[0;32m   1215\u001b[0m \u001b[38;5;28;01mexcept\u001b[39;00m \u001b[38;5;167;01mKeyboardInterrupt\u001b[39;00m:\n\u001b[0;32m   1216\u001b[0m     \u001b[38;5;66;03m# re-raise KeyboardInterrupt, to truncate traceback\u001b[39;00m\n\u001b[1;32m-> 1217\u001b[0m     \u001b[38;5;28;01mraise\u001b[39;00m \u001b[38;5;167;01mKeyboardInterrupt\u001b[39;00m(\u001b[38;5;124m\"\u001b[39m\u001b[38;5;124mInterrupted by user\u001b[39m\u001b[38;5;124m\"\u001b[39m) \u001b[38;5;28;01mfrom\u001b[39;00m \u001b[38;5;28;01mNone\u001b[39;00m\n\u001b[0;32m   1218\u001b[0m \u001b[38;5;28;01mexcept\u001b[39;00m \u001b[38;5;167;01mException\u001b[39;00m:\n\u001b[0;32m   1219\u001b[0m     \u001b[38;5;28mself\u001b[39m\u001b[38;5;241m.\u001b[39mlog\u001b[38;5;241m.\u001b[39mwarning(\u001b[38;5;124m\"\u001b[39m\u001b[38;5;124mInvalid Message:\u001b[39m\u001b[38;5;124m\"\u001b[39m, exc_info\u001b[38;5;241m=\u001b[39m\u001b[38;5;28;01mTrue\u001b[39;00m)\n",
      "\u001b[1;31mKeyboardInterrupt\u001b[0m: Interrupted by user"
     ]
    }
   ],
   "source": [
    "import math\n",
    "from IPython.display import clear_output\n",
    "player_stats = {\"HP\" : 80, \"max HP\": 80, \"STR\" : 10}\n",
    "goblin_stats = {\"HP\" : 30, \"max HP\": 30, \"STR\" : 8}\n",
    "healthDashes = 20\n",
    "current_input = \"\"\n",
    "game_board()\n",
    "\n",
    "# Defining stats for the characters\n",
    "        \n",
    "play_game()\n",
    "                \n",
    "if player_death(player_stats):\n",
    "    print(\"It seems you have died, better luck next time!\\n\")\n",
    "elif enemy_death(goblin_stats):\n",
    "    print(\"Congratulations! You have killed the goblin!\\n\")\n",
    "    current_input = input(\"Do you want to play again ? (y/n)\\n\")\n",
    "    if current_input.lower() == \"y\":\n",
    "        goblin_stats = {\"HP\" : 30, \"max HP\": 30, \"STR\" : 8}\n",
    "    else:\n",
    "        print(\"Thank you for playing!\")\n",
    "    # Need to write something else here probably"
   ]
  },
  {
   "cell_type": "markdown",
   "id": "e1190cef",
   "metadata": {},
   "source": [
    "## Game loop"
   ]
  },
  {
   "cell_type": "code",
   "execution_count": 19,
   "id": "0e70e38a",
   "metadata": {},
   "outputs": [],
   "source": [
    "def play_game():\n",
    "    while not player_death(player_stats) and not enemy_death(goblin_stats):\n",
    "        current_input = input(\"What do you do? (type 'c' to figure out your options)\\n\")\n",
    "    if current_input.lower() == \"c\" or current_input.lower() == \"c\":\n",
    "        print(\"You can 'attack' (a), 'defend' (d), and 'run'(r)\\n\")\n",
    "        current_input = \"\"\n",
    "    elif current_input.lower() == \"a\":\n",
    "        attack_move_round(player_stats, goblin_stats)\n",
    "        current_input = \"\"\n",
    "    elif current_input.lower() == \"d\":\n",
    "        defend_move_player(player_stats, goblin_stats)\n",
    "        current_input = \"\"\n",
    "    elif current_input.lower() == \"r\":\n",
    "        run_away_player()\n",
    "        current_input = \"\""
   ]
  },
  {
   "cell_type": "markdown",
   "id": "2a08f2fa",
   "metadata": {},
   "source": [
    "### Dice roll func"
   ]
  },
  {
   "cell_type": "code",
   "execution_count": 2,
   "id": "834c8d84",
   "metadata": {},
   "outputs": [],
   "source": [
    "import random\n",
    "\n",
    "def dice_roll():\n",
    "    \"\"\"Returns a random int between 1 and 20\"\"\"\n",
    "    return random.randint(1, 21)"
   ]
  },
  {
   "cell_type": "markdown",
   "id": "2c857125",
   "metadata": {},
   "source": [
    "### Game Board"
   ]
  },
  {
   "cell_type": "markdown",
   "id": "42af0e55",
   "metadata": {},
   "source": [
    "###### Defining the images"
   ]
  },
  {
   "cell_type": "code",
   "execution_count": 3,
   "id": "1c280890",
   "metadata": {},
   "outputs": [],
   "source": [
    "def health_bar_enemy(enemy_stats):\n",
    "  dashConvert = int(enemy_stats[\"max HP\"]/healthDashes)            # Get the number to divide by to convert health to dashes (being 10)\n",
    "  currentDashes = int(enemy_stats[\"HP\"]/dashConvert)              # Convert health to dash count: 80/10 => 8 dashes\n",
    "  remainingHealth = healthDashes - currentDashes       # Get the health remaining to fill as space => 12 spaces\n",
    "\n",
    "  healthDisplay = '-' * currentDashes                  # Convert 8 to 8 dashes as a string:   \"--------\"\n",
    "  remainingDisplay = ' ' * remainingHealth             # Convert 12 to 12 spaces as a string: \"            \"\n",
    "  percent = str(int((enemy_stats[\"HP\"]/enemy_stats[\"max HP\"])*100)) + \"%\"     # Get the percent as a whole number:   40%\n",
    "\n",
    "  print(\"|\" + healthDisplay + remainingDisplay + \"|\")  # Print out textbased healthbar\n",
    "  print(\"         \" + percent)                         # Print the percent"
   ]
  },
  {
   "cell_type": "code",
   "execution_count": 4,
   "id": "fad7597b",
   "metadata": {},
   "outputs": [],
   "source": [
    "def health_bar_player():\n",
    "  dashConvert = int(player_stats[\"max HP\"]/healthDashes)            # Get the number to divide by to convert health to dashes (being 10)\n",
    "  currentDashes = int(player_stats[\"HP\"]/dashConvert)              # Convert health to dash count: 80/10 => 8 dashes\n",
    "  remainingHealth = healthDashes - currentDashes       # Get the health remaining to fill as space => 12 spaces\n",
    "\n",
    "  healthDisplay = '-' * currentDashes                  # Convert 8 to 8 dashes as a string:   \"--------\"\n",
    "  remainingDisplay = ' ' * remainingHealth             # Convert 12 to 12 spaces as a string: \"            \"\n",
    "  percent = str(int((player_stats[\"HP\"]/player_stats[\"max HP\"])*100)) + \"%\"     # Get the percent as a whole number:   40%\n",
    "\n",
    "  print(\"|\" + healthDisplay + remainingDisplay + \"|\")  # Print out textbased healthbar\n",
    "  print(\"         \" + percent)                         # Print the percent"
   ]
  },
  {
   "cell_type": "code",
   "execution_count": 5,
   "id": "c747eba8",
   "metadata": {},
   "outputs": [],
   "source": [
    "def goblin_picture_alive():print(r\"\"\"\n",
    "      ,      ,     \n",
    "     /(.----.)\\    \n",
    " |\\  \\/      \\/  /|\n",
    " | \\ / =.  .= \\ / |\n",
    " \\( \\   o\\/o   / )/\n",
    "  \\_, '-/  \\-' ,_/ \n",
    "    /   \\__/   \\   \n",
    "    \\ \\__/\\__/ /   \n",
    "  ___\\ \\|--|/ /___ \n",
    " /`   \\      /    `\\ \n",
    "/      '----'       \\ \n",
    "\"\"\")"
   ]
  },
  {
   "cell_type": "code",
   "execution_count": 6,
   "id": "6f3f13e4",
   "metadata": {},
   "outputs": [],
   "source": [
    "def goblin_picture_dead():print(r\"\"\" \n",
    "      ,      ,     \n",
    "     /(.----.)\\    \n",
    " |\\  \\/      \\/  /|\n",
    " | \\ / =.  .= \\ / |\n",
    " \\( \\   x\\/x   / )/\n",
    "  \\_, '-/  \\-' ,_/ \n",
    "    /   \\__/   \\   \n",
    "    \\ \\__/\\__/ /   \n",
    "  ___\\ \\|--|/ /___ \n",
    " /`   \\      /    `\\ \n",
    "/      '----'       \\ \n",
    "\"\"\")"
   ]
  },
  {
   "cell_type": "code",
   "execution_count": 7,
   "id": "3fbf465e",
   "metadata": {},
   "outputs": [],
   "source": [
    "def knight_picture_alive():print(r\"\"\"\n",
    "                   _.--.    .--._\n",
    "                 .\"  .\"      \".  \".\n",
    "                ;  .\"    /\\    \".  ;\n",
    "                ;  '._,-/  \\-,_.`  ;\n",
    "                \\  ,`  / /\\ \\  `,  /\n",
    "                 \\/    \\/  \\/    \\/\n",
    "                 ,=_    \\/\\/    _=,\n",
    "                 |  \"_   \\/   _\"  |\n",
    "                 |_   '\"-..-\"'   _|\n",
    "                 | \"-.        .-\" |\n",
    "                 |    \"\\    /\"    |\n",
    "                 |      |  |      |\n",
    "         ___     |      |  |      |     ___\n",
    "     _,-\",  \",   '_     |  |     _'   ,\"  ,\"-,_\n",
    "   _(  \\  \\   \\\"=--\"-.  |  |  .-\"--=\"/   /  /  )_\n",
    " ,\"  \\  \\  \\   \\      \"-'--'-\"      /   /  /  /  \".\n",
    "!     \\  \\  \\   \\                  /   /  /  /     !\n",
    ":      \\  \\  \\   \\                /   /  /  /      TK\n",
    "\"\"\")"
   ]
  },
  {
   "cell_type": "code",
   "execution_count": 8,
   "id": "98e47c48",
   "metadata": {},
   "outputs": [],
   "source": [
    "def knight_picture_dead():print(r\"\"\"\n",
    "                   _.--.    .--._\n",
    "                 .\"  .\"      \".  \".\n",
    "                ;  .\"    /\\    \".  ;\n",
    "                ;  '._,-/  \\-,_.`  ;\n",
    "                \\  ,`  / /\\ \\  `,  /\n",
    "                 \\/    \\/  \\/    \\/\n",
    "                 ,=_    \\/\\/    _=,\n",
    "                 |  \"_   \\/   _\"  |\n",
    "                 |_  x'\"-..-\"'x  _|\n",
    "                 | \"-.        .-\" |\n",
    "                 |    \"\\    /\"    |\n",
    "                 |      |  |      |\n",
    "         ___     |      |  |      |     ___\n",
    "     _,-\",  \",   '_     |  |     _'   ,\"  ,\"-,_\n",
    "   _(  \\  \\   \\\"=--\"-.  |  |  .-\"--=\"/   /  /  )_\n",
    " ,\"  \\  \\  \\   \\      \"-'--'-\"      /   /  /  /  \".\n",
    "!     \\  \\  \\   \\                  /   /  /  /     !\n",
    ":      \\  \\  \\   \\                /   /  /  /      TK\n",
    "\"\"\")"
   ]
  },
  {
   "cell_type": "markdown",
   "id": "e3f45f69",
   "metadata": {},
   "source": [
    "##### Making the actual game board"
   ]
  },
  {
   "cell_type": "code",
   "execution_count": 9,
   "id": "429d26cc",
   "metadata": {},
   "outputs": [],
   "source": [
    "def game_board():\n",
    "    clear_output()\n",
    "    if enemy_death(goblin_stats):\n",
    "        goblin_picture_dead()\n",
    "    else:\n",
    "        goblin_picture_alive()\n",
    "    \n",
    "    health_bar_enemy(goblin_stats)\n",
    "    \n",
    "    if player_death(player_stats):\n",
    "        knight_picture_dead()\n",
    "    else:\n",
    "        knight_picture_alive()\n",
    "        \n",
    "    health_bar_player()"
   ]
  },
  {
   "cell_type": "markdown",
   "id": "0db5bbe3",
   "metadata": {},
   "source": [
    "### Attack Functions"
   ]
  },
  {
   "cell_type": "code",
   "execution_count": 10,
   "id": "1120c639",
   "metadata": {},
   "outputs": [],
   "source": [
    "def attack_move_round(player_stats, enemy_stats):\n",
    "    current_dice_player = dice_roll()\n",
    "    if current_dice_player <= 5:\n",
    "        pass\n",
    "    elif current_dice_player >= 18:\n",
    "        damage_to_enemy = ((20 * player_stats[\"STR\"]) / current_dice_player)\n",
    "        enemy_stats[\"HP\"] -= damage_to_enemy\n",
    "        game_board()\n",
    "    else:\n",
    "        damage_to_enemy = ((20 * player_stats[\"STR\"]) / current_dice_player) / 2\n",
    "        enemy_stats[\"HP\"] -= damage_to_enemy\n",
    "        game_board()\n",
    "    \n",
    "    current_dice_enemy = dice_roll()\n",
    "    if current_dice_enemy <= 5:\n",
    "        pass\n",
    "    elif current_dice_enemy >= 18:\n",
    "        damage_to_player = ((20 * enemy_stats[\"STR\"]) / current_dice_enemy)\n",
    "        player_stats[\"HP\"] -= damage_to_player\n",
    "    else:\n",
    "        damage_to_player = ((20 * enemy_stats[\"STR\"]) / current_dice_enemy) / 2\n",
    "        player_stats[\"HP\"] -= damage_to_player\n",
    "        \n",
    "    game_board()\n",
    "    \n",
    "    if current_dice_player <= 5:\n",
    "        print(\"You have missed your attack\")\n",
    "    else:\n",
    "        print(f\"You have dealt {math.floor(damage_to_enemy)} damage and your opponent now has {math.floor(enemy_stats['HP'])} health\")\n",
    "    \n",
    "    if current_dice_enemy <= 5:\n",
    "        print(\"Your opponent has missed his attack\")\n",
    "    else:\n",
    "        print(f\"Your opponent has dealt {math.floor(damage_to_player)} damage to you and you now have {math.floor(player_stats['HP'])} health\")"
   ]
  },
  {
   "cell_type": "code",
   "execution_count": 11,
   "id": "94bab331",
   "metadata": {},
   "outputs": [],
   "source": [
    "def defend_move_player(player_stats, enemy_stats):\n",
    "    current_dice = dice_roll()\n",
    "    if current_dice >= 18:\n",
    "        game_board()\n",
    "        print(\"You have fully defended the attack, congratulations !\")\n",
    "    else:\n",
    "        damage = ((20 * enemy_stats[\"STR\"]) / current_dice) / 2\n",
    "        damage = damage * 0.50\n",
    "        player_stats[\"HP\"] -= damage\n",
    "        game_board()\n",
    "        print(f\"Your opponent has dealt {math.floor(damage)} damage to you and you now have {math.floor(player_stats['HP'])} health\")"
   ]
  },
  {
   "cell_type": "code",
   "execution_count": 12,
   "id": "7c1149c2",
   "metadata": {},
   "outputs": [],
   "source": [
    "def run_away_player():\n",
    "    game_board()\n",
    "    print(\"You ran away like a scared little chicken\")"
   ]
  },
  {
   "cell_type": "markdown",
   "id": "cbd47b99",
   "metadata": {},
   "source": [
    "# Death functions"
   ]
  },
  {
   "cell_type": "code",
   "execution_count": 13,
   "id": "22a13276",
   "metadata": {},
   "outputs": [],
   "source": [
    "def player_death(player_stats):\n",
    "    if player_stats[\"HP\"] <= 0:\n",
    "        return True\n",
    "    else:\n",
    "        return False"
   ]
  },
  {
   "cell_type": "code",
   "execution_count": 14,
   "id": "3f3bbeda",
   "metadata": {},
   "outputs": [],
   "source": [
    "def enemy_death(enemy_stats):\n",
    "    if enemy_stats[\"HP\"] <= 0:\n",
    "        return True\n",
    "    else:\n",
    "        return False"
   ]
  },
  {
   "cell_type": "markdown",
   "id": "37405002",
   "metadata": {},
   "source": [
    "# Testing grounds"
   ]
  },
  {
   "cell_type": "code",
   "execution_count": 88,
   "id": "881d2eba",
   "metadata": {},
   "outputs": [],
   "source": [
    "player_stats = {\"HP\" : 80, \"max HP\": 80, \"STR\" : 10}\n",
    "goblin_stats = {\"HP\" : 30, \"max HP\": 30, \"STR\" : 8}"
   ]
  },
  {
   "cell_type": "code",
   "execution_count": null,
   "id": "be35619b",
   "metadata": {},
   "outputs": [],
   "source": [
    "print(player_stats)\n",
    "print(goblin_stats)"
   ]
  },
  {
   "cell_type": "code",
   "execution_count": 90,
   "id": "bc0fdd1d",
   "metadata": {},
   "outputs": [
    {
     "name": "stdout",
     "output_type": "stream",
     "text": [
      "You have dealt 12 damage and your opponent now has 17 health\n"
     ]
    }
   ],
   "source": [
    "# Use your player to attack\n",
    "\n",
    "attack_move_player(player_stats, goblin_stats)"
   ]
  },
  {
   "cell_type": "code",
   "execution_count": 126,
   "id": "188bb884",
   "metadata": {},
   "outputs": [
    {
     "name": "stdout",
     "output_type": "stream",
     "text": [
      "The opponent's attack has missed\n"
     ]
    }
   ],
   "source": [
    "# The enemy attacks\n",
    "\n",
    "attack_move_enemy(player_stats, goblin_stats)"
   ]
  },
  {
   "cell_type": "code",
   "execution_count": 161,
   "id": "8a54cbe3",
   "metadata": {
    "scrolled": false
   },
   "outputs": [
    {
     "name": "stdout",
     "output_type": "stream",
     "text": [
      "Your opponent has dealt 4 damage to you and you now have -54 health\n"
     ]
    }
   ],
   "source": [
    "# When a player blocks the enemys' attack\n",
    "\n",
    "defend_move_player(player_stats, goblin_stats)"
   ]
  },
  {
   "cell_type": "markdown",
   "id": "215b8e4e",
   "metadata": {},
   "source": [
    "# Stray notes"
   ]
  },
  {
   "cell_type": "markdown",
   "id": "3b5b95aa",
   "metadata": {},
   "source": [
    "### Not gonna use this right now but might come in handy:"
   ]
  },
  {
   "cell_type": "code",
   "execution_count": null,
   "id": "e353f539",
   "metadata": {},
   "outputs": [],
   "source": []
  },
  {
   "cell_type": "code",
   "execution_count": null,
   "id": "9db839ff",
   "metadata": {},
   "outputs": [],
   "source": [
    "def attack_move_player(player_stats, enemy_stats):\n",
    "    current_dice = dice_roll()\n",
    "    if current_dice <= 5:\n",
    "        game_board()\n",
    "        print(\"Attack has missed\")\n",
    "    elif current_dice >= 18:\n",
    "        damage = ((20 * player_stats[\"STR\"]) / current_dice)\n",
    "        enemy_stats[\"HP\"] -= damage\n",
    "        game_board()\n",
    "        print(f\"You have dealt {math.floor(damage)} damage and your opponent now has {math.floor(enemy_stats['HP'])} health\")\n",
    "    else:\n",
    "        damage = ((20 * player_stats[\"STR\"]) / current_dice) / 2\n",
    "        enemy_stats[\"HP\"] -= damage\n",
    "        game_board()\n",
    "        print(f\"You have dealt {math.floor(damage)} damage and your opponent now has {math.floor(enemy_stats['HP'])} health\")"
   ]
  },
  {
   "cell_type": "code",
   "execution_count": null,
   "id": "f2b4f30e",
   "metadata": {},
   "outputs": [],
   "source": [
    "def attack_move_enemy(player_stats, enemy_stats):\n",
    "    current_dice = dice_roll()\n",
    "    if current_dice <= 5:\n",
    "        game_board()\n",
    "        print(\"The opponent's attack has missed\")\n",
    "    elif current_dice >= 18:\n",
    "        damage = ((20 * enemy_stats[\"STR\"]) / current_dice)\n",
    "        player_stats[\"HP\"] -= damage\n",
    "        game_board()\n",
    "        print(f\"Your opponent has dealt {math.floor(damage)} damage to you and you now have {math.floor(player_stats['HP'])} health\")\n",
    "    else:\n",
    "        damage = ((20 * enemy_stats[\"STR\"]) / current_dice) / 2\n",
    "        player_stats[\"HP\"] -= damage\n",
    "        game_board()\n",
    "        print(f\"Your opponent has dealt {math.floor(damage)} damage to you and you now have {math.floor(player_stats['HP'])} health\")"
   ]
  },
  {
   "cell_type": "code",
   "execution_count": null,
   "id": "6e9ecd11",
   "metadata": {},
   "outputs": [],
   "source": []
  }
 ],
 "metadata": {
  "kernelspec": {
   "display_name": "Python 3 (ipykernel)",
   "language": "python",
   "name": "python3"
  },
  "language_info": {
   "codemirror_mode": {
    "name": "ipython",
    "version": 3
   },
   "file_extension": ".py",
   "mimetype": "text/x-python",
   "name": "python",
   "nbconvert_exporter": "python",
   "pygments_lexer": "ipython3",
   "version": "3.11.4"
  }
 },
 "nbformat": 4,
 "nbformat_minor": 5
}
