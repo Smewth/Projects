{
 "cells": [
  {
   "cell_type": "markdown",
   "id": "01f7a8f9",
   "metadata": {},
   "source": [
    "# Game Project = Turn-based combat "
   ]
  },
  {
   "cell_type": "code",
   "execution_count": 1,
   "id": "75045ae0",
   "metadata": {},
   "outputs": [],
   "source": [
    "# This will be a simple project, at least at first\n",
    "# But it's something i can keep building and add new layers to it over time\n",
    "# I will try to use pygame, but maybe only later for it might be too big of a challenge"
   ]
  },
  {
   "cell_type": "markdown",
   "id": "2f212f3e",
   "metadata": {},
   "source": [
    "# Function list / layers"
   ]
  },
  {
   "cell_type": "markdown",
   "id": "a694e50a",
   "metadata": {},
   "source": [
    "##### The following list will be ordered in terms of priority "
   ]
  },
  {
   "cell_type": "markdown",
   "id": "1871d47b",
   "metadata": {},
   "source": [
    "### Level 1 (Essential)"
   ]
  },
  {
   "cell_type": "code",
   "execution_count": 3,
   "id": "bc24cd42",
   "metadata": {},
   "outputs": [],
   "source": [
    "# (very) Simple DND based combat:\n",
    "        # Death state\n",
    "        # Randomizer for the damage each hit does\n",
    "        # Menus\n",
    "# Stats of player character\n",
    "    # Mostly STR, VIT\n",
    "# Stats of several different NPC's\n",
    "    # Can be a bit more basic here but yea, it's mostly the same"
   ]
  },
  {
   "cell_type": "markdown",
   "id": "83a383cf",
   "metadata": {},
   "source": [
    "### Level 2"
   ]
  },
  {
   "cell_type": "code",
   "execution_count": 5,
   "id": "0ecbc4c2",
   "metadata": {},
   "outputs": [],
   "source": [
    "# Text-based menus and options for inventory \n",
    "# Drop Tables for mobs\n",
    "# Inventory with items such as:\n",
    "    # Consumable items such as potions\n",
    "    # Items with functions such as spawning a boss (more to think about later)\n",
    "# Skills\n",
    "    # Player should learn new skills with every few levels \n",
    "    # In the combat menu you will have an option for \"skills\" as in \"attack\" or \"run away\"\n",
    "    # Each function would be a different skill\n",
    "    # Skills would incorporate into the level ups\n",
    "# An easter egg"
   ]
  },
  {
   "cell_type": "markdown",
   "id": "736b3a43",
   "metadata": {},
   "source": [
    "### Level 3"
   ]
  },
  {
   "cell_type": "code",
   "execution_count": null,
   "id": "1e6bdb65",
   "metadata": {},
   "outputs": [],
   "source": [
    "# Hub-based are where you can shop and talk to strangers\n",
    "# Level up mechanics\n",
    "    # Should rack an XP variable for the player character\n",
    "    # When the player has reached a certain threshold a warning should pop up saying he should enter the \"level up menu\" \n",
    "    # Give an option to which stats to level up\n",
    "# Cheats so it is easier for debugging and presenting project\n",
    "# Initiative stat that changes the time it takes for each turn to be made"
   ]
  },
  {
   "cell_type": "markdown",
   "id": "d36aa36c",
   "metadata": {},
   "source": [
    "### Level 4"
   ]
  },
  {
   "cell_type": "code",
   "execution_count": null,
   "id": "5e4b95c9",
   "metadata": {},
   "outputs": [],
   "source": [
    "# Different areas with different mobs and loot tables\n",
    "    # Menus to travel between areas with randomized flavor text"
   ]
  },
  {
   "cell_type": "markdown",
   "id": "da90fdcf",
   "metadata": {},
   "source": [
    "### Level 5"
   ]
  },
  {
   "cell_type": "code",
   "execution_count": null,
   "id": "b4a97e55",
   "metadata": {},
   "outputs": [],
   "source": [
    "# Equipment and how they interact with stats and combat\n",
    "    # Will have to make one variable for each body part in the player's body\n",
    "    # Math to how it interacts with the stat tablee\n",
    "# Crit modifiers to combat affected by DEX (New stat not like Initiative)"
   ]
  },
  {
   "cell_type": "markdown",
   "id": "6169e8e4",
   "metadata": {},
   "source": [
    "### Level 6"
   ]
  },
  {
   "cell_type": "code",
   "execution_count": null,
   "id": "55cd6059",
   "metadata": {},
   "outputs": [],
   "source": [
    "# Different classes\n",
    "    # Different classes would have different skills and stat variables\n",
    "        # Mage\n",
    "            # Would have to create a INT stat variable that interacts with skills\n",
    "            # A bunch of skills for mage\n",
    "        # Rogue\n",
    "            # Would incorporate DEX stat variable to it\n",
    "            # Would be based on fast crit-based attacks\n",
    "# Rock-Paper-Scissors mechanics to the combat between the classes"
   ]
  },
  {
   "cell_type": "markdown",
   "id": "dcff1430",
   "metadata": {},
   "source": [
    "### Level 7"
   ]
  },
  {
   "cell_type": "code",
   "execution_count": null,
   "id": "d97e13b7",
   "metadata": {},
   "outputs": [],
   "source": [
    "# Quests and story throughout the game\n",
    "# Incorporating all of it with pygame, images etc"
   ]
  }
 ],
 "metadata": {
  "kernelspec": {
   "display_name": "Python 3 (ipykernel)",
   "language": "python",
   "name": "python3"
  },
  "language_info": {
   "codemirror_mode": {
    "name": "ipython",
    "version": 3
   },
   "file_extension": ".py",
   "mimetype": "text/x-python",
   "name": "python",
   "nbconvert_exporter": "python",
   "pygments_lexer": "ipython3",
   "version": "3.11.4"
  }
 },
 "nbformat": 4,
 "nbformat_minor": 5
}
