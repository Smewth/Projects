{
 "cells": [
  {
   "cell_type": "markdown",
   "id": "9b6e6e02",
   "metadata": {},
   "source": [
    "## Phillp notes for tomorrow "
   ]
  },
  {
   "cell_type": "code",
   "execution_count": null,
   "id": "07a14424",
   "metadata": {},
   "outputs": [],
   "source": [
    "# Look at the main code and see what he can tell me about it\n",
    "# "
   ]
  },
  {
   "cell_type": "markdown",
   "id": "ce856b80",
   "metadata": {},
   "source": [
    "## Objectives for this level "
   ]
  },
  {
   "cell_type": "code",
   "execution_count": null,
   "id": "48e4b67b",
   "metadata": {},
   "outputs": [],
   "source": [
    "# (very) Simple DND based combat:\n",
    "        # Death state\n",
    "        # Randomizer for the damage each hit does\n",
    "        # Menus\n",
    "# Stats of player character\n",
    "    # Mostly STR, VIT\n",
    "# Stats of several different NPC's\n",
    "    # Can be a bit more basic here but yea, it's mostly the same"
   ]
  },
  {
   "cell_type": "markdown",
   "id": "29268849",
   "metadata": {},
   "source": [
    "# Combat tuning"
   ]
  },
  {
   "cell_type": "code",
   "execution_count": null,
   "id": "dc8cda2d",
   "metadata": {},
   "outputs": [],
   "source": [
    "# Which functions will i need for combat:\n",
    "# attack, defend, run away\n",
    "\n",
    "# stat variables defined for player characters and at least 1 enemy\n",
    "    # Dictionary for each character with the stats attributed\n",
    "\n",
    "# death condition\n",
    "    # Death of the player which returns game over\n",
    "    # Death of the enemy which returns the option to keep going "
   ]
  },
  {
   "cell_type": "code",
   "execution_count": null,
   "id": "afea4a32",
   "metadata": {},
   "outputs": [],
   "source": [
    "# Attack formula:\n",
    "    # roll a dice between one and 20, if <= 5 then the attack misses\n",
    "    # if >=18, the attack crits and deals double damage\n",
    "    # if it's between 5 and 18:\n",
    "        # 20 (max dice roll) * STR / dice_roll = Damage dealt to the target"
   ]
  },
  {
   "cell_type": "markdown",
   "id": "f4b4dfc0",
   "metadata": {},
   "source": [
    "### Dice roll func"
   ]
  },
  {
   "cell_type": "code",
   "execution_count": 4,
   "id": "52ba2f53",
   "metadata": {},
   "outputs": [],
   "source": [
    "import random\n",
    "\n",
    "def dice_roll():\n",
    "    \"\"\"Returns a random int between 1 and 20\"\"\"\n",
    "    return random.randint(1, 20)"
   ]
  },
  {
   "cell_type": "markdown",
   "id": "40e89c88",
   "metadata": {},
   "source": [
    "### Defining stats"
   ]
  },
  {
   "cell_type": "code",
   "execution_count": 5,
   "id": "5865031f",
   "metadata": {},
   "outputs": [],
   "source": [
    "player_stats = {\"HP\" : 80, \"STR\" : 10}\n",
    "goblin_stats = {\"HP\" : 30, \"STR\" : 8}"
   ]
  },
  {
   "cell_type": "markdown",
   "id": "68407717",
   "metadata": {},
   "source": [
    "### Attack Functions"
   ]
  },
  {
   "cell_type": "code",
   "execution_count": 6,
   "id": "19bf79b3",
   "metadata": {
    "scrolled": true
   },
   "outputs": [],
   "source": [
    "def attack_move_player(player_stats, enemy_stats):\n",
    "    current_dice = dice_roll()\n",
    "    if current_dice <= 5:\n",
    "        print(\"Attack has missed\")\n",
    "    elif current_dice >= 18:\n",
    "        damage = ((20 * player_stats[\"STR\"]) / current_dice)\n",
    "        enemy_stats[\"HP\"] -= damage\n",
    "        print(f\"You have dealt {math.floor(damage)} damage and your opponent now has {math.floor(enemy_stats['HP'])} health\")\n",
    "    else:\n",
    "        damage = ((20 * player_stats[\"STR\"]) / current_dice) / 2\n",
    "        enemy_stats[\"HP\"] -= damage\n",
    "        print(f\"You have dealt {math.floor(damage)} damage and your opponent now has {math.floor(enemy_stats['HP'])} health\")"
   ]
  },
  {
   "cell_type": "code",
   "execution_count": 7,
   "id": "cfa0619a",
   "metadata": {},
   "outputs": [],
   "source": [
    "def attack_move_enemy(player_stats, enemy_stats):\n",
    "    current_dice = dice_roll()\n",
    "    if current_dice <= 5:\n",
    "        print(\"The opponent's attack has missed\")\n",
    "    elif current_dice >= 18:\n",
    "        damage = ((20 * enemy_stats[\"STR\"]) / current_dice)\n",
    "        player_stats[\"HP\"] -= damage\n",
    "        print(f\"Your opponent has dealt {math.floor(damage)} damage to you and you now have {math.floor(player_stats['HP'])} health\")\n",
    "    else:\n",
    "        damage = ((20 * enemy_stats[\"STR\"]) / current_dice) / 2\n",
    "        player_stats[\"HP\"] -= damage\n",
    "        print(f\"Your opponent has dealt {math.floor(damage)} damage to you and you now have {math.floor(player_stats['HP'])} health\")"
   ]
  },
  {
   "cell_type": "code",
   "execution_count": 8,
   "id": "8d8dc140",
   "metadata": {},
   "outputs": [],
   "source": [
    "def defend_move_player(player_stats, enemy_stats):\n",
    "    current_dice = dice_roll()\n",
    "    if current_dice >= 18:\n",
    "        print(\"You have fully defended the attack, congratulations !\")\n",
    "    else:\n",
    "        damage = ((20 * enemy_stats[\"STR\"]) / current_dice) / 2\n",
    "        damage = damage * 0.50\n",
    "        player_stats[\"HP\"] -= damage\n",
    "        print(f\"Your opponent has dealt {math.floor(damage)} damage to you and you now have {math.floor(player_stats['HP'])} health\")"
   ]
  },
  {
   "cell_type": "code",
   "execution_count": 9,
   "id": "5160f8a9",
   "metadata": {},
   "outputs": [],
   "source": [
    "def run_away_player():\n",
    "    print(\"You ran away like a scared little chicken\")"
   ]
  },
  {
   "cell_type": "markdown",
   "id": "b8b82326",
   "metadata": {},
   "source": [
    "# Death functions"
   ]
  },
  {
   "cell_type": "code",
   "execution_count": 10,
   "id": "6477b3dd",
   "metadata": {},
   "outputs": [],
   "source": [
    "def player_death(player_stats):\n",
    "    if player_stats[\"HP\"] <= 0:\n",
    "        return False\n",
    "    else:\n",
    "        return True"
   ]
  },
  {
   "cell_type": "code",
   "execution_count": 11,
   "id": "4ac89540",
   "metadata": {},
   "outputs": [],
   "source": [
    "def enemy_death(enemy_stats):\n",
    "    if enemy_stats[\"HP\"] <= 0:\n",
    "        return False\n",
    "    else:\n",
    "        return True"
   ]
  },
  {
   "cell_type": "markdown",
   "id": "c5f17d70",
   "metadata": {},
   "source": [
    "# Testing grounds"
   ]
  },
  {
   "cell_type": "code",
   "execution_count": 12,
   "id": "3d7d3b9b",
   "metadata": {},
   "outputs": [],
   "source": [
    "is_player_alive = player_death(player_stats)"
   ]
  },
  {
   "cell_type": "code",
   "execution_count": 13,
   "id": "969b3c57",
   "metadata": {},
   "outputs": [
    {
     "name": "stdout",
     "output_type": "stream",
     "text": [
      "Player is alive\n"
     ]
    }
   ],
   "source": [
    "if is_player_alive == True:\n",
    "    print(\"Player is alive\")\n",
    "else:\n",
    "    print(\"Player is dead\")"
   ]
  },
  {
   "cell_type": "code",
   "execution_count": 14,
   "id": "e8ce427f",
   "metadata": {},
   "outputs": [
    {
     "data": {
      "text/plain": [
       "True"
      ]
     },
     "execution_count": 14,
     "metadata": {},
     "output_type": "execute_result"
    }
   ],
   "source": [
    "player_death(player_stats)"
   ]
  },
  {
   "cell_type": "code",
   "execution_count": 162,
   "id": "9dfcd77e",
   "metadata": {},
   "outputs": [],
   "source": [
    "player_stats = {\"HP\" : 80, \"STR\" : 10}\n",
    "goblin_stats = {\"HP\" : 30, \"STR\" : 8}"
   ]
  },
  {
   "cell_type": "code",
   "execution_count": null,
   "id": "0571dce4",
   "metadata": {},
   "outputs": [],
   "source": [
    "print(player_stats)\n",
    "print(goblin_stats)"
   ]
  },
  {
   "cell_type": "code",
   "execution_count": 129,
   "id": "e90cdd33",
   "metadata": {},
   "outputs": [
    {
     "name": "stdout",
     "output_type": "stream",
     "text": [
      "You have dealt 10 damage and your opponent now has -6 health\n"
     ]
    }
   ],
   "source": [
    "# Use your player to attack\n",
    "\n",
    "attack_move_player(player_stats, goblin_stats)"
   ]
  },
  {
   "cell_type": "code",
   "execution_count": 126,
   "id": "b45a9188",
   "metadata": {},
   "outputs": [
    {
     "name": "stdout",
     "output_type": "stream",
     "text": [
      "The opponent's attack has missed\n"
     ]
    }
   ],
   "source": [
    "# The enemy attacks\n",
    "\n",
    "attack_move_enemy(player_stats, goblin_stats)"
   ]
  },
  {
   "cell_type": "code",
   "execution_count": 161,
   "id": "3e163c76",
   "metadata": {},
   "outputs": [
    {
     "name": "stdout",
     "output_type": "stream",
     "text": [
      "Your opponent has dealt 4 damage to you and you now have -54 health\n"
     ]
    }
   ],
   "source": [
    "# When a player blocks the enemys' attack\n",
    "\n",
    "defend_move_player(player_stats, goblin_stats)"
   ]
  },
  {
   "cell_type": "markdown",
   "id": "8c6ff1cd",
   "metadata": {},
   "source": [
    "# Game Logic - Putting it all together"
   ]
  },
  {
   "cell_type": "code",
   "execution_count": 1,
   "id": "59dfdd5e",
   "metadata": {},
   "outputs": [
    {
     "name": "stdout",
     "output_type": "stream",
     "text": [
      "First section\n"
     ]
    },
    {
     "ename": "NameError",
     "evalue": "name 'player_death' is not defined",
     "output_type": "error",
     "traceback": [
      "\u001b[1;31m---------------------------------------------------------------------------\u001b[0m",
      "\u001b[1;31mNameError\u001b[0m                                 Traceback (most recent call last)",
      "Cell \u001b[1;32mIn[1], line 11\u001b[0m\n\u001b[0;32m      8\u001b[0m goblin_stats \u001b[38;5;241m=\u001b[39m {\u001b[38;5;124m\"\u001b[39m\u001b[38;5;124mHP\u001b[39m\u001b[38;5;124m\"\u001b[39m : \u001b[38;5;241m30\u001b[39m, \u001b[38;5;124m\"\u001b[39m\u001b[38;5;124mSTR\u001b[39m\u001b[38;5;124m\"\u001b[39m : \u001b[38;5;241m8\u001b[39m}\n\u001b[0;32m      9\u001b[0m current_input \u001b[38;5;241m=\u001b[39m \u001b[38;5;124m\"\u001b[39m\u001b[38;5;124m\"\u001b[39m\n\u001b[1;32m---> 11\u001b[0m \u001b[38;5;28;01mwhile\u001b[39;00m \u001b[38;5;129;01mnot\u001b[39;00m player_death(player_stats) \u001b[38;5;129;01mand\u001b[39;00m \u001b[38;5;129;01mnot\u001b[39;00m enemy_death(goblin_stats):\n\u001b[0;32m     12\u001b[0m     current_input \u001b[38;5;241m=\u001b[39m \u001b[38;5;28minput\u001b[39m(\u001b[38;5;124m\"\u001b[39m\u001b[38;5;124mWhat do you do? (type \u001b[39m\u001b[38;5;124m'\u001b[39m\u001b[38;5;124mcommands\u001b[39m\u001b[38;5;124m'\u001b[39m\u001b[38;5;124m to figure out your options)\u001b[39m\u001b[38;5;124m\"\u001b[39m)\n\u001b[0;32m     13\u001b[0m     \u001b[38;5;28;01mif\u001b[39;00m current_input\u001b[38;5;241m.\u001b[39mlower() \u001b[38;5;241m==\u001b[39m \u001b[38;5;124m\"\u001b[39m\u001b[38;5;124mcommands\u001b[39m\u001b[38;5;124m\"\u001b[39m \u001b[38;5;129;01mor\u001b[39;00m current_input\u001b[38;5;241m.\u001b[39mlower() \u001b[38;5;241m==\u001b[39m \u001b[38;5;124m\"\u001b[39m\u001b[38;5;124mcommand\u001b[39m\u001b[38;5;124m\"\u001b[39m:\n",
      "\u001b[1;31mNameError\u001b[0m: name 'player_death' is not defined"
     ]
    }
   ],
   "source": [
    "import math\n",
    "from IPython.display import clear_output\n",
    "clear_output()\n",
    "\n",
    "print(\"First section\")\n",
    "# Defining stats for the characters\n",
    "player_stats = {\"HP\" : 80, \"STR\" : 10}\n",
    "goblin_stats = {\"HP\" : 30, \"STR\" : 8}\n",
    "current_input = \"\"\n",
    "        \n",
    "while not player_death(player_stats) and not enemy_death(goblin_stats):\n",
    "    current_input = input(\"What do you do? (type 'commands' to figure out your options)\")\n",
    "    if current_input.lower() == \"commands\" or current_input.lower() == \"command\":\n",
    "        print(\"You can 'attack', 'defend', and 'run'\")\n",
    "        current_input = \"\"\n",
    "    elif current_input.lower() == \"attack\":\n",
    "        attack_move_player(player_stats, goblin_stats)\n",
    "        attack_move_enemy(player_stats, goblin_stats)\n",
    "        current_input = \"\"\n",
    "    elif current_input.lower() == \"defend\":\n",
    "        defend_move_player(player_stats, goblin_stats)\n",
    "        current_input = \"\"\n",
    "    elif current_input.lower() == \"run\":\n",
    "        run_away_player()\n",
    "        current_input = \"\"\n",
    "                \n",
    "    if player_death(player_stats):\n",
    "        print(\"It seems you have died, better luck next time!\")\n",
    "        game_on = False\n",
    "    elif enemy_death(enemy_stats):\n",
    "        print(\"Congratulations! You have killed the goblin!\")\n",
    "        current_input = input(\"Do you want to play again ? (y/n)\")\n",
    "    if current_input.lower()[0] == \"y\":\n",
    "        goblin_stats = {\"HP\" : 30, \"STR\" : 8}\n",
    "    else:\n",
    "        print(\"Thank you for playing!\")\n",
    "        # Need to write something else here probably\n",
    "            "
   ]
  },
  {
   "cell_type": "code",
   "execution_count": null,
   "id": "f39378fc",
   "metadata": {},
   "outputs": [],
   "source": []
  },
  {
   "cell_type": "markdown",
   "id": "47f77338",
   "metadata": {},
   "source": [
    "# Stray notes"
   ]
  },
  {
   "cell_type": "code",
   "execution_count": 31,
   "id": "f657cfba",
   "metadata": {},
   "outputs": [
    {
     "name": "stdout",
     "output_type": "stream",
     "text": [
      "Are you ready to kick some fucking goblin ass? Y/Ny\n"
     ]
    },
    {
     "ename": "KeyboardInterrupt",
     "evalue": "Interrupted by user",
     "output_type": "error",
     "traceback": [
      "\u001b[1;31m---------------------------------------------------------------------------\u001b[0m",
      "\u001b[1;31mKeyboardInterrupt\u001b[0m                         Traceback (most recent call last)",
      "Cell \u001b[1;32mIn[31], line 13\u001b[0m\n\u001b[0;32m     10\u001b[0m goblin_stats \u001b[38;5;241m=\u001b[39m {\u001b[38;5;124m\"\u001b[39m\u001b[38;5;124mHP\u001b[39m\u001b[38;5;124m\"\u001b[39m : \u001b[38;5;241m30\u001b[39m, \u001b[38;5;124m\"\u001b[39m\u001b[38;5;124mSTR\u001b[39m\u001b[38;5;124m\"\u001b[39m : \u001b[38;5;241m8\u001b[39m}\n\u001b[0;32m     11\u001b[0m current_input \u001b[38;5;241m=\u001b[39m \u001b[38;5;124m\"\u001b[39m\u001b[38;5;124m\"\u001b[39m\n\u001b[1;32m---> 13\u001b[0m play_game \u001b[38;5;241m=\u001b[39m \u001b[38;5;28minput\u001b[39m(\u001b[38;5;124m\"\u001b[39m\u001b[38;5;124mAre you ready to kick some fucking goblin ass? Y/N\u001b[39m\u001b[38;5;124m\"\u001b[39m)\n\u001b[0;32m     15\u001b[0m \u001b[38;5;28;01mif\u001b[39;00m play_game\u001b[38;5;241m.\u001b[39mlower()[\u001b[38;5;241m0\u001b[39m] \u001b[38;5;241m==\u001b[39m \u001b[38;5;124m\"\u001b[39m\u001b[38;5;124my\u001b[39m\u001b[38;5;124m\"\u001b[39m:\n\u001b[0;32m     16\u001b[0m     game_on \u001b[38;5;241m=\u001b[39m \u001b[38;5;28;01mTrue\u001b[39;00m\n",
      "File \u001b[1;32m~\\anaconda3\\Lib\\site-packages\\ipykernel\\kernelbase.py:1175\u001b[0m, in \u001b[0;36mKernel.raw_input\u001b[1;34m(self, prompt)\u001b[0m\n\u001b[0;32m   1171\u001b[0m \u001b[38;5;28;01mif\u001b[39;00m \u001b[38;5;129;01mnot\u001b[39;00m \u001b[38;5;28mself\u001b[39m\u001b[38;5;241m.\u001b[39m_allow_stdin:\n\u001b[0;32m   1172\u001b[0m     \u001b[38;5;28;01mraise\u001b[39;00m StdinNotImplementedError(\n\u001b[0;32m   1173\u001b[0m         \u001b[38;5;124m\"\u001b[39m\u001b[38;5;124mraw_input was called, but this frontend does not support input requests.\u001b[39m\u001b[38;5;124m\"\u001b[39m\n\u001b[0;32m   1174\u001b[0m     )\n\u001b[1;32m-> 1175\u001b[0m \u001b[38;5;28;01mreturn\u001b[39;00m \u001b[38;5;28mself\u001b[39m\u001b[38;5;241m.\u001b[39m_input_request(\n\u001b[0;32m   1176\u001b[0m     \u001b[38;5;28mstr\u001b[39m(prompt),\n\u001b[0;32m   1177\u001b[0m     \u001b[38;5;28mself\u001b[39m\u001b[38;5;241m.\u001b[39m_parent_ident[\u001b[38;5;124m\"\u001b[39m\u001b[38;5;124mshell\u001b[39m\u001b[38;5;124m\"\u001b[39m],\n\u001b[0;32m   1178\u001b[0m     \u001b[38;5;28mself\u001b[39m\u001b[38;5;241m.\u001b[39mget_parent(\u001b[38;5;124m\"\u001b[39m\u001b[38;5;124mshell\u001b[39m\u001b[38;5;124m\"\u001b[39m),\n\u001b[0;32m   1179\u001b[0m     password\u001b[38;5;241m=\u001b[39m\u001b[38;5;28;01mFalse\u001b[39;00m,\n\u001b[0;32m   1180\u001b[0m )\n",
      "File \u001b[1;32m~\\anaconda3\\Lib\\site-packages\\ipykernel\\kernelbase.py:1217\u001b[0m, in \u001b[0;36mKernel._input_request\u001b[1;34m(self, prompt, ident, parent, password)\u001b[0m\n\u001b[0;32m   1214\u001b[0m             \u001b[38;5;28;01mbreak\u001b[39;00m\n\u001b[0;32m   1215\u001b[0m \u001b[38;5;28;01mexcept\u001b[39;00m \u001b[38;5;167;01mKeyboardInterrupt\u001b[39;00m:\n\u001b[0;32m   1216\u001b[0m     \u001b[38;5;66;03m# re-raise KeyboardInterrupt, to truncate traceback\u001b[39;00m\n\u001b[1;32m-> 1217\u001b[0m     \u001b[38;5;28;01mraise\u001b[39;00m \u001b[38;5;167;01mKeyboardInterrupt\u001b[39;00m(\u001b[38;5;124m\"\u001b[39m\u001b[38;5;124mInterrupted by user\u001b[39m\u001b[38;5;124m\"\u001b[39m) \u001b[38;5;28;01mfrom\u001b[39;00m \u001b[38;5;28;01mNone\u001b[39;00m\n\u001b[0;32m   1218\u001b[0m \u001b[38;5;28;01mexcept\u001b[39;00m \u001b[38;5;167;01mException\u001b[39;00m:\n\u001b[0;32m   1219\u001b[0m     \u001b[38;5;28mself\u001b[39m\u001b[38;5;241m.\u001b[39mlog\u001b[38;5;241m.\u001b[39mwarning(\u001b[38;5;124m\"\u001b[39m\u001b[38;5;124mInvalid Message:\u001b[39m\u001b[38;5;124m\"\u001b[39m, exc_info\u001b[38;5;241m=\u001b[39m\u001b[38;5;28;01mTrue\u001b[39;00m)\n",
      "\u001b[1;31mKeyboardInterrupt\u001b[0m: Interrupted by user"
     ]
    }
   ],
   "source": [
    "# This is an old code from the mainframe that is not very good anymore\n",
    "\n",
    "import math\n",
    "from IPython.display import clear_output\n",
    "clear_output()\n",
    "\n",
    "while True:\n",
    "    # Defining stats for the characters\n",
    "    player_stats = {\"HP\" : 80, \"STR\" : 10}\n",
    "    goblin_stats = {\"HP\" : 30, \"STR\" : 8}\n",
    "    current_input = \"\"\n",
    "    \n",
    "    play_game = input(\"Are you ready to kick some fucking goblin ass? Y/N\")\n",
    "    \n",
    "    if play_game.lower()[0] == \"y\":\n",
    "        game_on = True\n",
    "    else:\n",
    "        game_on = False\n",
    "        \n",
    "        print(\"You have met a shady goblin throughout the forest, he looks at you menacingly, he intends to attack\")\n",
    "        while game_on and player_death(player_stats) and enemy_death(enemy_stats):\n",
    "            current_input = input(\"What do you do? (type 'commands' to figure out your options)\")\n",
    "            if current_input.lower() == \"commands\" or current_input.lower() == \"command\":\n",
    "                print(\"You can 'attack', 'defend', and 'run'\")\n",
    "                current_input == \"\"\n",
    "            elif current_input.lower() == \"attack\":\n",
    "                attack_move_player(player_stats, goblin_stats)\n",
    "                attack_move_enemy(player_stats, goblin_stats)\n",
    "                current_input == \"\"\n",
    "            elif current_input.lower() == \"defend\":\n",
    "                defend_move_player(player_stats, goblin_stats)\n",
    "                current_input == \"\"\n",
    "            elif current_input.lower() == \"run\":\n",
    "                run_away_player()\n",
    "                current_input == \"\"\n",
    "                break\n",
    "                \n",
    "        if player_death(player_stats):\n",
    "            print(\"It seems you have died, better luck next time!\")\n",
    "            game_on = False\n",
    "        elif enemy_death(enemy_stats):\n",
    "            print(\"Congratulations! You have killed the goblin!\")\n",
    "            current_input = input(\"Do you want to play again ? (y/n)\")\n",
    "            if current_input.lower()[0] == \"y\":\n",
    "                goblin_stats = {\"HP\" : 30, \"STR\" : 8}\n",
    "            else:\n",
    "                print(\"Thank you for playing!\")\n",
    "                # Need to write something else here probably"
   ]
  },
  {
   "cell_type": "code",
   "execution_count": null,
   "id": "9a21dc51",
   "metadata": {},
   "outputs": [],
   "source": [
    "# start combat: # while combat loop:\n",
    "# if player_death then: ask to go back or again // if enemy_death then: ask if you want to kill another enemy"
   ]
  },
  {
   "cell_type": "code",
   "execution_count": 152,
   "id": "0a4b0bf4",
   "metadata": {},
   "outputs": [],
   "source": [
    "# This makes the display auto update like Phillip told you just run it at the start of your code\n",
    "\n",
    "from IPython.display import clear_output\n",
    "clear_output()\n",
    "\n",
    "# Also you need this for the math.floor() function, don't forget to run it:\n",
    "import math"
   ]
  },
  {
   "cell_type": "code",
   "execution_count": 168,
   "id": "1c902f7b",
   "metadata": {},
   "outputs": [],
   "source": [
    "# if current_input = \"\"\n",
    "    # then \n",
    "    \n",
    "# pass break continue"
   ]
  },
  {
   "cell_type": "markdown",
   "id": "404756e2",
   "metadata": {},
   "source": [
    "### Not gonna use this right now but might come in handy:"
   ]
  },
  {
   "cell_type": "code",
   "execution_count": null,
   "id": "6de12be1",
   "metadata": {},
   "outputs": [],
   "source": [
    "def attack_from_player(player_stats, enemy_stats):\n",
    "    damage = ((20 * player_stats[\"STR\"]) / current_dice)\n",
    "    return damage"
   ]
  },
  {
   "cell_type": "code",
   "execution_count": null,
   "id": "3e17d616",
   "metadata": {},
   "outputs": [],
   "source": [
    "def attack_from_enemy(player_stats, enemy_stats):\n",
    "    damage = ((20 * enemy_stats[\"STR\"]) / current_dice)\n",
    "    return damage"
   ]
  }
 ],
 "metadata": {
  "kernelspec": {
   "display_name": "Python 3 (ipykernel)",
   "language": "python",
   "name": "python3"
  },
  "language_info": {
   "codemirror_mode": {
    "name": "ipython",
    "version": 3
   },
   "file_extension": ".py",
   "mimetype": "text/x-python",
   "name": "python",
   "nbconvert_exporter": "python",
   "pygments_lexer": "ipython3",
   "version": "3.11.4"
  }
 },
 "nbformat": 4,
 "nbformat_minor": 5
}
