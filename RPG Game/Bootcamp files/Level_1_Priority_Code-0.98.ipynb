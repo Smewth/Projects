{
 "cells": [
  {
   "cell_type": "markdown",
   "id": "f96cee10",
   "metadata": {},
   "source": [
    "## Current objectives"
   ]
  },
  {
   "cell_type": "markdown",
   "id": "0f925d12",
   "metadata": {},
   "source": [
    "#### Top priority"
   ]
  },
  {
   "cell_type": "code",
   "execution_count": null,
   "id": "3b7baddd",
   "metadata": {},
   "outputs": [],
   "source": [
    "# Make boss character\n",
    "# Fix input going up and down when it should just be going down\n",
    "# Fix enemy health bar"
   ]
  },
  {
   "cell_type": "markdown",
   "id": "b7e3f304",
   "metadata": {},
   "source": [
    "#### Low priority"
   ]
  },
  {
   "cell_type": "code",
   "execution_count": null,
   "id": "5516c5e7",
   "metadata": {},
   "outputs": [],
   "source": [
    "# The defend function doesn't have much use, need to implement mechanics for it\n",
    "# When enemy HP is 0 it still stays alive"
   ]
  },
  {
   "cell_type": "markdown",
   "id": "8c6ff1cd",
   "metadata": {},
   "source": [
    "# Game Logic - Putting it all together"
   ]
  },
  {
   "cell_type": "code",
   "execution_count": null,
   "id": "59dfdd5e",
   "metadata": {},
   "outputs": [
    {
     "name": "stdout",
     "output_type": "stream",
     "text": [
      "\n",
      "      ,      ,     \n",
      "     /(.----.)\\    \n",
      " |\\  \\/      \\/  /|\n",
      " | \\ / =.  .= \\ / |\n",
      " \\( \\   x\\/x   / )/\n",
      "  \\_, '-/  \\-' ,_/ \n",
      "    /   \\__/   \\   \n",
      "    \\ \\__/\\__/ /   \n",
      "  ___\\ \\|--|/ /___ \n",
      " /`   \\      /    `\\ \n",
      "/      '----'       \\ \n",
      "\n",
      "|                                                                                                                                                                                                                                                                                                                                                                                                                                                                                                                                                                                                                                                                                                                                                                                                                                                                                                                                                                                                                                                                                                                                                                                                                                                                                                                                                                                                                                                                                                                                                                                                                                                                                                                                                                                                                                                                                                                                                                                                                                                                                                                                                                                                                                                                                                                                                                                                                                                                                                                                                                                                                                                                                                                                                                                                                                                                                                                                                                                                                                                                                                                                                                                                                                                                                                                                                                                                                                                                                                                                                                                                                                                                                                                                                                                                                                                                                                                                                                                                                                                                                                                                                                                                                                                                                                                                                                                                                                                                                                                                                                                                                                                                                                                                                                                                                                                                                                                                                                                                                                                                                                                                                                                                                                                                                                                                                                                                                                                                                                                                                                                                                                                                                                                                                                                                                                                                                                                                                                                                                                                                                                                                                                                                                                                                                                                                                                                                                                                                                                                                                                                                                                                                                                                                                                                                                                                                                                                                                                                                                                                                                                                                                                                                                                                                                                                                                                                                                                                                                                                                                                                                                                                                                                                                                                                                                                                                                                                                                                                                                                                                                                                                                                                                                                                                                                                                                                                                                                                                                                                                                                                                                                                                                                                                                                                                                                                                                                                                                                                                                                                                                                                                                                                                                                                                                                                                                                                                                                                                                                                                                                                                                                                                                                                                                                                                                                                                                                                                                                                                                                                                                                                                                                                                                                                                                                                                                                                                                                                                                                                                                                                                                                                                                                                                                                                                                                                                                                                                                                                                                                                                                                                                                                                                                                                                                                                                                                                                                                                                                                                                                                                                                                                                                                                                                                                                                                                                                                                                                                                                                                                                                                                                                                                                                                                                                                                                                                                                                                                                                                                                                                                                                                                                                                                                                                                                                                                                                                                                                                                                                                                                                                                                                                                                                                                                                                                                                                                                                                                                                                                                                                                                                                                                                                                                                                                                                                                                                                                                                                                                                                                                                                                                                                                                                                                                                                                                                                                                                                                                                                                                                                                                                                                                                                                                                                                                                                                                                                                                                                                                                                                                                                                                                                                                                                                                                                                                                                                                                                                                                                                                                                                                                                                                                                                                                                                                                                                                                                                                                                                                                                                                                                                                                                                                                                                                                                                                                                                                                                                                                                                                                                                                                                                                                                                                                                                                                                                                                                                                                                                                                                                                                                                                                                                                                                                                                                                                                                                                                                                                                                                                                                                                                                                                                                                                                                                                                                                                                                                                                                                                                                                                                                                                                                                                                                                                                                                                                                                                                                                                                                                                                                                                                                                                                                                                                                                                                                                                                                                                                                                                                                                                                                                                                                                                                                                                                                                                                                                                                                                                                                                                                                                                                                                                                                                                                                                                                                                                                                                                                                                                                                                                                                                                                                                                                                                                                                                                                                                                                                                                                                                                                                                                                                                                                                                                                                                                                                                                                                                                                                                                                                                                                                                                                                                                                                                                                                                                                                                                                                                                                                                                                                                                                                                                                                                                                                                                                                                                                                                                                                                                                                                                                                                                                                                                                                                                                                                                                                                                                                                                                                                                                                                                                                                                                                                                                                                                                                                                                                                                                                                                                                                                                                                                                                                                                                                                                                                                                                                                                                                                                                                                                                                                                                                                                                                                                                                                                                                                                                                                                                                                                                                                                                                                                                                                                                                                                                                                                                                                                                                                                                                                                                                                                                                                                                                                                                                                                                                                                                                                                                                                                                                                                                                                                                                                                                                                                                                                                                                                                                                                                                                                                                                                                                                                                                                                                                                                                                                                                                                                                                                                                                                                                                                                                                                                                                                                                                                                                                                                                                                                                                                                                                                                                                                                                                                                                                                                                                                                                                                                                                                                                                                                                                                                                                                                                                                                                                                                                                                                                                                                                                                                                                                                                                                                                                                                                                                                                                                                                                                                                                                                                                                                                                                                                                                                                                                                                                                                                                                                                                                                                                                                                                                                                                                                                                                                                                                                                                                                                                                                                                                                                                                                                                                                                                                                                                                                                                                                                                                                                                                                                                                                                                                                                                                                                                                                                                                                                                                                                                                                                                                                                                                                                                                                                                                                                                                                                                                                                                                                                                                                                                                                                                                                                                                                                                                                                                                                                                                                                                                                                                                                                                                                                                                                                                                                                                                                                                                                                                                                                                                                                                                                                                                                                                                                                                                                                                                                                                                                                                                                                                                                                                                                                                                                                                                                                                                                                                                                                                                                                                                                                                                                                                                                                                                                                                                                                                                                                                                                                                                                                                                                                                                                                                                                                                                                                                                                                                                                                                                                                                                                                                                                                                                                                                                                                                                                                                                                                                                                                                                                                                                                                                                                                                                                                                                                                                                                                                                                                                                                                                                                                                                                                                                                                                                                                                                                                                                                                                                                                                                                                                                                                                                                                                                                                                                                                                                                                                                                                                                                                                                                                                                                                                                                                                                                                                                                                                                                                                                                                                                                                                                                                                                                                                                                                                                                                                                                                                                                                                                                                                                                                                                                                                                                                                                                                                                                                                                                                                                                                                                                                                                                                                                                                                                                                                                                                                                                                                                                                                                                                                                                                                                                                                                                                                                                                                                                                                                                                                                                                                                                                                                                                                                                                                                                                                                                                                                                                                                                                                                                                                                                                                                                                                                                                                                                                                                                                                                                                                                                                                                                                                                                                                                                                                                                                                                                                                                                                                                                                                                                                                                                                                                                                                                                                                                                                                                                                                                                                                                                                                                                                                                                                                                                                                                                                                                                                                                                                                                                                                                                                                                                                                                                                                                                                                                                                                                                                                                                                                                                                                                                                                                                                                                                                                                                                                                                                                                                                                                                                                                                                                                                                                                                                                                                                                                                                                                                                                                                                                                                                                                                                                                                                                                                                                                                                                                                                                                                                                                                                                                                                                                                                                                                                                                                                                                                                                                                                                                                                                                                                                                                                                                                                                                                                                                                                                                                                                                                                                                                                                                                                                                                                                                                                                                                                                                                                                                                                                                                                                                                                                                                                                                                                                                                                                                                                                                                                                                                                                                                                                                                                                                                                                                                                                                                                                                                                                                                                                                                                                                                                                                                                                                                                                                                                                                                                                                                                                                                                                                                                                                                                                                                                                                                                                                                                                                                                                                                                                                                                                                                                                                                                                                                                                                                                                                                                                                                                                                                                                                                                                                                                                                                                                                                                                                                                                                                                                                                                                                                                                                                                                                                                                                                                                                                                                                                                                                                                                                                                                                                                                                                                                                                                                                                                                                                                                                                                                                                                                                                                                                                                                                                                                                                                                                                                                                                                                                                                                                                                                                                                                                                                                                                                                                                                                                                                                                                                                                                                                                                                                                                                                                                                                                                                                                                                                                                                                                                                                                                                                                                                                                                                                                                                                                                                                                                                                                                                                                                                                                                                                                                                                                                                                                                                                                                                                                                                                                                                                                                                                                                                                                                                                                                                                                                                                                                                                                                                                                                                                                                                                                                                                                                                                                                                                                                                                                                                                                                                                                                                                                                                                                                                                                                                                                                                                                                                                                                                                                                                                                                                                                                                                                                                                                                                                                                                      |\n",
      "         -249931%\n",
      "\n",
      "                   _.--.    .--._\n",
      "                 .\"  .\"      \".  \".\n",
      "                ;  .\"    /\\    \".  ;\n",
      "                ;  '._,-/  \\-,_.`  ;\n",
      "                \\  ,`  / /\\ \\  `,  /\n",
      "                 \\/    \\/  \\/    \\/\n",
      "                 ,=_    \\/\\/    _=,\n",
      "                 |  \"_   \\/   _\"  |\n",
      "                 |_   '\"-..-\"'   _|\n",
      "                 | \"-.        .-\" |\n",
      "                 |    \"\\    /\"    |\n",
      "                 |      |  |      |\n",
      "         ___     |      |  |      |     ___\n",
      "     _,-\",  \",   '_     |  |     _'   ,\"  ,\"-,_\n",
      "   _(  \\  \\   \\\"=--\"-.  |  |  .-\"--=\"/   /  /  )_\n",
      " ,\"  \\  \\  \\   \\      \"-'--'-\"      /   /  /  /  \".\n",
      "!     \\  \\  \\   \\                  /   /  /  /     !\n",
      ":      \\  \\  \\   \\                /   /  /  /      TK\n",
      "\n",
      "|----------------    |\n",
      "         81%\n",
      "Items in your inventory: {'Health Potion': 4, 'SHOOP DA WOOP': 0} \n",
      " \n",
      "\n"
     ]
    }
   ],
   "source": [
    "import math\n",
    "from IPython.display import clear_output\n",
    "player_stats = {\"HP\" : 80, \"max HP\": 80, \"STR\" : 10}\n",
    "goblin_stats = {\"HP\" : 40, \"max HP\": 40, \"STR\" : 8}\n",
    "boss_stats = {\"HP\" : 8000, \"max HP\": 8000, \"STR\" : 40}\n",
    "healthDashes = 20\n",
    "current_input = \"\"\n",
    "inventory_bag = {\"Health Potion\" : 4, \"SHOOP DA WOOP\" : 1}\n",
    "game_board()\n",
    "\n",
    "play_game(goblin_stats)"
   ]
  },
  {
   "cell_type": "code",
   "execution_count": null,
   "id": "3542259b",
   "metadata": {},
   "outputs": [],
   "source": [
    "print(goblin_stats)"
   ]
  },
  {
   "cell_type": "markdown",
   "id": "d8a1824b",
   "metadata": {},
   "source": [
    "## Game loop"
   ]
  },
  {
   "cell_type": "code",
   "execution_count": 2,
   "id": "791910a3",
   "metadata": {},
   "outputs": [],
   "source": [
    "def play_game(enemy_stats):\n",
    "    while not player_death(player_stats) and not enemy_death(enemy_stats):\n",
    "        current_input = input(\"What do you do? (type 'c' to figure out your options)\\n\")\n",
    "        if current_input.lower() == \"c\" or current_input.lower() == \"c\":\n",
    "            print(\"You can 'attack' (a), 'defend' (d), and 'run'(r)\\n\")\n",
    "            current_input = \"\"\n",
    "        elif current_input.lower() == \"a\":\n",
    "            attack_move_round(player_stats, enemy_stats)\n",
    "            current_input = \"\"\n",
    "        elif current_input.lower() == \"d\":\n",
    "            defend_move_player(player_stats, enemy_stats)\n",
    "            current_input = \"\"\n",
    "        elif current_input.lower() == \"r\":\n",
    "            run_away_player()\n",
    "            current_input = \"\"\n",
    "        elif current_input.lower() == \"hp\":\n",
    "            health_potion(enemy_stats)\n",
    "            current_input = \"\"\n",
    "        elif current_input.lower() == \"shoop da woop\":\n",
    "            shoop(enemy_stats)\n",
    "            current_input = \"\"\n",
    "            \n",
    "    if player_death(player_stats):\n",
    "        print(\"It seems you have died, better luck next time!\\n\")\n",
    "    elif enemy_death(enemy_stats):\n",
    "        print(\"Congratulations! You have killed the goblin!\\n\")\n",
    "        current_input = input(\"Do you want to play again ? (y/n)\\n\")\n",
    "        if current_input.lower() == \"y\":\n",
    "            goblin_stats = {\"HP\" : 40, \"max HP\": 40, \"STR\" : 8}\n",
    "            game_board()\n",
    "            play_game(goblin_stats)\n",
    "        else:\n",
    "            print(\"Thank you for playing!\")"
   ]
  },
  {
   "cell_type": "code",
   "execution_count": 3,
   "id": "ff8cfef3",
   "metadata": {},
   "outputs": [],
   "source": [
    "def play_game_boss(enemy_stats):\n",
    "    while not player_death(player_stats) and not enemy_death(enemy_stats):\n",
    "        current_input = input(\"What do you do? (type 'c' to figure out your options)\\n\")\n",
    "        if current_input.lower() == \"c\" or current_input.lower() == \"c\":\n",
    "            print(\"You can 'attack' (a), 'defend' (d), and 'run'(r)\\n\")\n",
    "            current_input = \"\"\n",
    "        elif current_input.lower() == \"a\":\n",
    "            attack_move_round(player_stats, enemy_stats)\n",
    "            current_input = \"\"\n",
    "        elif current_input.lower() == \"d\":\n",
    "            defend_move_player(player_stats, enemy_stats)\n",
    "            current_input = \"\"\n",
    "        elif current_input.lower() == \"r\":\n",
    "            run_away_player()\n",
    "            current_input = \"\"\n",
    "        elif current_input.lower() == \"hp\":\n",
    "            health_potion(enemy_stats)\n",
    "            current_input = \"\"\n",
    "        elif current_input.lower() == \"shoop da woop\":\n",
    "            shoop(enemy_stats)\n",
    "            current_input = \"\"\n",
    "            \n",
    "    if player_death(player_stats):\n",
    "        print(\"It seems you have died, better luck next time!\\n\")\n",
    "    elif enemy_death(enemy_stats):\n",
    "        print(\"Congratulations! You have killed the boss and won the game, click enter to get a surprise\\n\")\n",
    "        \n",
    "        "
   ]
  },
  {
   "cell_type": "markdown",
   "id": "3060d39a",
   "metadata": {},
   "source": [
    "### Dice roll func"
   ]
  },
  {
   "cell_type": "code",
   "execution_count": 4,
   "id": "7d22691c",
   "metadata": {},
   "outputs": [],
   "source": [
    "import random\n",
    "\n",
    "def dice_roll():\n",
    "    \"\"\"Returns a random int between 1 and 20\"\"\"\n",
    "    return random.randint(1, 21)"
   ]
  },
  {
   "cell_type": "markdown",
   "id": "f8c54390",
   "metadata": {},
   "source": [
    "### User Commands"
   ]
  },
  {
   "cell_type": "code",
   "execution_count": 5,
   "id": "2b8dc261",
   "metadata": {},
   "outputs": [],
   "source": [
    "def attack_move_round(player_stats, enemy_stats):\n",
    "    current_dice_player = dice_roll()\n",
    "    if current_dice_player <= 5:\n",
    "        pass\n",
    "    elif current_dice_player >= 18:\n",
    "        damage_to_enemy = ((20 * player_stats[\"STR\"]) / current_dice_player)\n",
    "        enemy_stats[\"HP\"] -= damage_to_enemy\n",
    "        game_board()\n",
    "    else:\n",
    "        damage_to_enemy = ((20 * player_stats[\"STR\"]) / current_dice_player) / 2\n",
    "        enemy_stats[\"HP\"] -= damage_to_enemy\n",
    "        game_board()\n",
    "    \n",
    "    current_dice_enemy = dice_roll()\n",
    "    if current_dice_enemy <= 5:\n",
    "        pass\n",
    "    elif current_dice_enemy >= 18:\n",
    "        damage_to_player = ((20 * enemy_stats[\"STR\"]) / current_dice_enemy)\n",
    "        player_stats[\"HP\"] -= damage_to_player\n",
    "    else:\n",
    "        damage_to_player = ((20 * enemy_stats[\"STR\"]) / current_dice_enemy) / 2\n",
    "        player_stats[\"HP\"] -= damage_to_player\n",
    "        \n",
    "    game_board()\n",
    "    \n",
    "    if current_dice_player <= 5:\n",
    "        print(\"You have missed your attack\")\n",
    "    else:\n",
    "        print(f\"You have dealt {math.floor(damage_to_enemy)} damage and your opponent now has {math.floor(enemy_stats['HP'])} health\")\n",
    "    \n",
    "    if current_dice_enemy <= 5:\n",
    "        print(\"Your opponent has missed his attack\")\n",
    "    else:\n",
    "        print(f\"Your opponent has dealt {math.floor(damage_to_player)} damage to you and you now have {math.floor(player_stats['HP'])} health\")"
   ]
  },
  {
   "cell_type": "code",
   "execution_count": 6,
   "id": "ffc6488b",
   "metadata": {},
   "outputs": [],
   "source": [
    "def defend_move_player(player_stats, enemy_stats):\n",
    "    current_dice = dice_roll()\n",
    "    if current_dice >= 18:\n",
    "        game_board()\n",
    "        print(\"You have fully defended the attack, congratulations !\")\n",
    "    else:\n",
    "        damage = ((20 * enemy_stats[\"STR\"]) / current_dice) / 2\n",
    "        damage = damage * 0.50\n",
    "        player_stats[\"HP\"] -= damage\n",
    "        game_board()\n",
    "        print(f\"Your opponent has dealt {math.floor(damage)} damage to you and you now have {math.floor(player_stats['HP'])} health\")"
   ]
  },
  {
   "cell_type": "code",
   "execution_count": 7,
   "id": "9f0846fc",
   "metadata": {},
   "outputs": [],
   "source": [
    "def run_away_player():\n",
    "    game_board()\n",
    "    print(\"You ran away like a scared little chicken\")"
   ]
  },
  {
   "cell_type": "code",
   "execution_count": 8,
   "id": "e27c5194",
   "metadata": {},
   "outputs": [],
   "source": [
    "def health_potion(enemy_stats):\n",
    "    if inventory_bag[\"Health Potion\"] > 0:\n",
    "        inventory_bag[\"Health Potion\"] -= 1\n",
    "        player_stats[\"HP\"] += 40\n",
    "    else:\n",
    "        print(\"You went into your bag for a potion and found nothing, you still lost a turn\")\n",
    "    \n",
    "    current_dice_enemy = dice_roll()\n",
    "    if current_dice_enemy <= 5:\n",
    "        pass\n",
    "    elif current_dice_enemy >= 18:\n",
    "        damage_to_player = ((20 * enemy_stats[\"STR\"]) / current_dice_enemy)\n",
    "        player_stats[\"HP\"] -= damage_to_player\n",
    "    else:\n",
    "        damage_to_player = ((20 * enemy_stats[\"STR\"]) / current_dice_enemy) / 2\n",
    "        player_stats[\"HP\"] -= damage_to_player\n",
    "        \n",
    "    game_board()\n",
    "    print(\"You drank a health potion, it tastes like Sunny Delight, yummy\")\n",
    "    print(f\"Your opponent used this opportunity to deal {math.floor(damage_to_player)} damage to you and you now have {math.floor(player_stats['HP'])} health\")"
   ]
  },
  {
   "cell_type": "code",
   "execution_count": 9,
   "id": "11973669",
   "metadata": {},
   "outputs": [],
   "source": [
    "def shoop(enemy_stats):\n",
    "    if inventory_bag[\"SHOOP DA WOOP\"] > 0:\n",
    "        inventory_bag[\"SHOOP DA WOOP\"] -= 1\n",
    "        enemy_stats[\"HP\"] -= 100000\n",
    "    else:\n",
    "        print(\"You went into your bag for a potion and found nothing, you still lost a turn\")\n",
    "    \n",
    "    current_dice_enemy = dice_roll()\n",
    "    if current_dice_enemy <= 5:\n",
    "        pass\n",
    "    elif current_dice_enemy >= 18:\n",
    "        damage_to_player = ((20 * enemy_stats[\"STR\"]) / current_dice_enemy)\n",
    "        player_stats[\"HP\"] -= damage_to_player\n",
    "    else:\n",
    "        damage_to_player = ((20 * enemy_stats[\"STR\"]) / current_dice_enemy) / 2\n",
    "        player_stats[\"HP\"] -= damage_to_player\n",
    "        \n",
    "    game_board()\n",
    "    print(\"You dealt a whopping 100000 damage to the enemy and he's now blown to smithereens, nice\")\n",
    "    print(f\"Your opponent used this opportunity to deal {math.floor(damage_to_player)} damage to you and you now have {math.floor(player_stats['HP'])} health\")"
   ]
  },
  {
   "cell_type": "markdown",
   "id": "76a478c6",
   "metadata": {},
   "source": [
    "# Death functions"
   ]
  },
  {
   "cell_type": "code",
   "execution_count": 10,
   "id": "20f3bb31",
   "metadata": {},
   "outputs": [],
   "source": [
    "def player_death(player_stats):\n",
    "    if player_stats[\"HP\"] <= 0:\n",
    "        return True\n",
    "    else:\n",
    "        return False"
   ]
  },
  {
   "cell_type": "code",
   "execution_count": 11,
   "id": "6113c15c",
   "metadata": {},
   "outputs": [],
   "source": [
    "def enemy_death(enemy_stats):\n",
    "    if enemy_stats[\"HP\"] <= 0:\n",
    "        return True\n",
    "    else:\n",
    "        return False"
   ]
  },
  {
   "cell_type": "markdown",
   "id": "88f184f0",
   "metadata": {},
   "source": [
    "### Game Board"
   ]
  },
  {
   "cell_type": "markdown",
   "id": "59aeb96f",
   "metadata": {},
   "source": [
    "###### Defining the images"
   ]
  },
  {
   "cell_type": "code",
   "execution_count": 12,
   "id": "1b431e72",
   "metadata": {},
   "outputs": [],
   "source": [
    "def health_bar_enemy(enemy_stats):\n",
    "  dashConvert = int(enemy_stats[\"max HP\"]/healthDashes)            # Get the number to divide by to convert health to dashes (being 10)\n",
    "  currentDashes = int(enemy_stats[\"HP\"]/dashConvert)              # Convert health to dash count: 80/10 => 8 dashes\n",
    "  remainingHealth = healthDashes - currentDashes       # Get the health remaining to fill as space => 12 spaces\n",
    "\n",
    "  healthDisplay = '-' * currentDashes                  # Convert 8 to 8 dashes as a string:   \"--------\"\n",
    "  remainingDisplay = ' ' * remainingHealth             # Convert 12 to 12 spaces as a string: \"            \"\n",
    "  percent = str(int((enemy_stats[\"HP\"]/enemy_stats[\"max HP\"])*100)) + \"%\"     # Get the percent as a whole number:   40%\n",
    "\n",
    "  print(\"|\" + healthDisplay + remainingDisplay + \"|\")  # Print out textbased healthbar\n",
    "  print(\"         \" + percent)                         # Print the percent"
   ]
  },
  {
   "cell_type": "code",
   "execution_count": 13,
   "id": "2a508631",
   "metadata": {},
   "outputs": [],
   "source": [
    "def health_bar_player():\n",
    "  dashConvert = int(player_stats[\"max HP\"]/healthDashes)            # Get the number to divide by to convert health to dashes (being 10)\n",
    "  currentDashes = int(player_stats[\"HP\"]/dashConvert)              # Convert health to dash count: 80/10 => 8 dashes\n",
    "  remainingHealth = healthDashes - currentDashes       # Get the health remaining to fill as space => 12 spaces\n",
    "\n",
    "  healthDisplay = '-' * currentDashes                  # Convert 8 to 8 dashes as a string:   \"--------\"\n",
    "  remainingDisplay = ' ' * remainingHealth             # Convert 12 to 12 spaces as a string: \"            \"\n",
    "  percent = str(int((player_stats[\"HP\"]/player_stats[\"max HP\"])*100)) + \"%\"     # Get the percent as a whole number:   40%\n",
    "\n",
    "  print(\"|\" + healthDisplay + remainingDisplay + \"|\")  # Print out textbased healthbar\n",
    "  print(\"         \" + percent)                         # Print the percent"
   ]
  },
  {
   "cell_type": "code",
   "execution_count": 14,
   "id": "2f339bae",
   "metadata": {},
   "outputs": [],
   "source": [
    "def goblin_picture_alive():print(r\"\"\"\n",
    "      ,      ,     \n",
    "     /(.----.)\\    \n",
    " |\\  \\/      \\/  /|\n",
    " | \\ / =.  .= \\ / |\n",
    " \\( \\   o\\/o   / )/\n",
    "  \\_, '-/  \\-' ,_/ \n",
    "    /   \\__/   \\   \n",
    "    \\ \\__/\\__/ /   \n",
    "  ___\\ \\|--|/ /___ \n",
    " /`   \\      /    `\\ \n",
    "/      '----'       \\ \n",
    "\"\"\")"
   ]
  },
  {
   "cell_type": "code",
   "execution_count": 15,
   "id": "148ce4c5",
   "metadata": {},
   "outputs": [],
   "source": [
    "def goblin_picture_dead():print(r\"\"\"\n",
    "      ,      ,     \n",
    "     /(.----.)\\    \n",
    " |\\  \\/      \\/  /|\n",
    " | \\ / =.  .= \\ / |\n",
    " \\( \\   x\\/x   / )/\n",
    "  \\_, '-/  \\-' ,_/ \n",
    "    /   \\__/   \\   \n",
    "    \\ \\__/\\__/ /   \n",
    "  ___\\ \\|--|/ /___ \n",
    " /`   \\      /    `\\ \n",
    "/      '----'       \\ \n",
    "\"\"\")"
   ]
  },
  {
   "cell_type": "code",
   "execution_count": 16,
   "id": "481d2d74",
   "metadata": {},
   "outputs": [],
   "source": [
    "def knight_picture_alive():print(r\"\"\"\n",
    "                   _.--.    .--._\n",
    "                 .\"  .\"      \".  \".\n",
    "                ;  .\"    /\\    \".  ;\n",
    "                ;  '._,-/  \\-,_.`  ;\n",
    "                \\  ,`  / /\\ \\  `,  /\n",
    "                 \\/    \\/  \\/    \\/\n",
    "                 ,=_    \\/\\/    _=,\n",
    "                 |  \"_   \\/   _\"  |\n",
    "                 |_   '\"-..-\"'   _|\n",
    "                 | \"-.        .-\" |\n",
    "                 |    \"\\    /\"    |\n",
    "                 |      |  |      |\n",
    "         ___     |      |  |      |     ___\n",
    "     _,-\",  \",   '_     |  |     _'   ,\"  ,\"-,_\n",
    "   _(  \\  \\   \\\"=--\"-.  |  |  .-\"--=\"/   /  /  )_\n",
    " ,\"  \\  \\  \\   \\      \"-'--'-\"      /   /  /  /  \".\n",
    "!     \\  \\  \\   \\                  /   /  /  /     !\n",
    ":      \\  \\  \\   \\                /   /  /  /      TK\n",
    "\"\"\")"
   ]
  },
  {
   "cell_type": "code",
   "execution_count": 17,
   "id": "c6b00811",
   "metadata": {},
   "outputs": [],
   "source": [
    "def knight_picture_dead():print(r\"\"\"\n",
    "                   _.--.    .--._\n",
    "                 .\"  .\"      \".  \".\n",
    "                ;  .\"    /\\    \".  ;\n",
    "                ;  '._,-/  \\-,_.`  ;\n",
    "                \\  ,`  / /\\ \\  `,  /\n",
    "                 \\/    \\/  \\/    \\/\n",
    "                 ,=_    \\/\\/    _=,\n",
    "                 |  \"_   \\/   _\"  |\n",
    "                 |_  x'\"-..-\"'x  _|\n",
    "                 | \"-.        .-\" |\n",
    "                 |    \"\\    /\"    |\n",
    "                 |      |  |      |\n",
    "         ___     |      |  |      |     ___\n",
    "     _,-\",  \",   '_     |  |     _'   ,\"  ,\"-,_\n",
    "   _(  \\  \\   \\\"=--\"-.  |  |  .-\"--=\"/   /  /  )_\n",
    " ,\"  \\  \\  \\   \\      \"-'--'-\"      /   /  /  /  \".\n",
    "!     \\  \\  \\   \\                  /   /  /  /     !\n",
    ":      \\  \\  \\   \\                /   /  /  /      TK\n",
    "\"\"\")"
   ]
  },
  {
   "cell_type": "code",
   "execution_count": 18,
   "id": "0d900d90",
   "metadata": {},
   "outputs": [],
   "source": [
    "def boss_picture_alive():print(r\"\"\"\n",
    "⠀⠀⠀⠀⠀⠀⠀⠀⠀⠀⠀⠀⢀⠱⠀⠀⠀⠀⠀⠀⠀⠀⠀⠀⠀⠀⠀⠀⠀⠀⠀⢀⠀⠀⠀⠀⠀⠀⡄⠀⠀⠀⠀⠀⠀⠀⠀⠀\n",
    "⣶⡒⠤⡀⠀⠀⠀⠀⠀⢠⠃⠀⡞⠆⡀⠀⠀⠀⠀⠀⠀⠀⠀⠀⠀⠀⡄⢢⠀⠀⠀⠀⢅⠀⠀⠀⠀⠀⡇⠀⠀⠀⠀⠀⠀⠀⠀⠀\n",
    "⠛⠛⡶⣄⠁⠢⢄⣀⠠⠀⢰⠀⡷⠐⠇⠀⠀⠀⠀⠀⡀⠀⠀⠀⣀⣠⢛⡿⢤⣔⢠⠀⣿⠂⠂⠀⠀⠀⡆⠀⠀⠀⠀⠀⠀⠀⠀⠀\n",
    "⠀⠀⠀⠀⠙⠢⢤⢸⠍⢂⠄⡀⠁⡇⡄⠀⠀⢀⠆⠀⣇⢀⡄⡽⣿⢩⡇⣯⣿⣿⢥⡠⣮⡁⡇⠀⠀⠀⡇⡀⠀⠀⠀⠀⠀⠀⠀⠀\n",
    "⠀⠀⠀⢰⠀⠀⢰⠙⡢⢜⣵⣬⣐⠤⢀⠀⠀⢸⠀⠀⣹⡼⠷⠊⠻⠏⠞⢛⠤⣿⠻⣿⣟⣤⠅⠀⢀⠀⡇⠇⠀⠀⠃⠀⠀⠀⠀⠀\n",
    "⠀⠀⠀⠈⡀⠀⢸⠀⡾⠀⡎⠹⠻⢿⣷⡏⠒⠌⣀⠬⣔⣡⠨⠠⠠⢀⣶⣹⣿⢽⣤⣿⣷⣟⣤⠀⠀⠀⠁⠀⠘⠈⠀⠀⠀⠀⠀⠀\n",
    "⠀⠀⠀⠀⠁⠀⠘⠈⠃⠈⠁⠀⠀⢀⠩⢒⡄⡀⠀⠈⠪⡀⠄⠠⠢⠄⠟⠈⠉⠏⠉⢟⠛⢯⣯⣹⣿⣿⠀⠀⠀⠀⠀⠀⠀⠀⠀⠀\n",
    "⠀⠀⠀⠀⠀⠀⠀⠀⠀⠀⠀⠀⠀⠈⠒⢧⣤⣝⢆⡤⡠⠃⢄⡀⠀⠁⡈⢣⢀⣸⣠⣀⣆⠈⢶⣾⣿⡏⠉⠉⠀⢴⡀⠀⠀⠀⠀⠀\n",
    "⠀⠀⠀⠀⠀⠀⠀⠀⠀⢀⣀⣀⡀⠠⣠⣄⣒⡮⣭⣯⣷⣺⣅⣄⣀⡠⠤⠾⠒⣾⣿⣿⣿⣿⣿⣿⠿⣄⡠⣠⡊⠉⠀⠀⠀⠀⠀⠀\n",
    "⠀⠀⠀⢀⣿⠖⣤⣖⠦⠀⣀⣤⣴⡾⠋⠀⠀⠀⠀⠁⠒⠲⠀⠈⠉⠉⣉⣭⣭⡿⠛⠛⢿⣟⣛⣛⣭⠈⠉⣈⣉⣹⣿⣛⣪⣥⡄⠀\n",
    "⠀⠀⠐⠥⢀⡀⣄⣤⣼⣍⢺⣿⣿⢷⢷⣷⣦⠤⠤⠤⠀⢠⣤⡼⠷⠚⠁⠀⠈⢲⡌⢢⠐⠙⡓⡭⣾⢵⠦⠒⠒⠘⢳⣿⣿⡄⠉⠠\n",
    "⠀⠀⠀⠀⢰⣋⣻⢿⣿⣿⣻⡯⠋⠀⠁⠠⠀⠐⠀⣀⡠⠞⠉⣵⠆⣠⣶⣺⢻⣿⣿⣷⣥⣤⣨⡐⡀⠀⠈⠀⠀⠀⢰⡎⢣⣰⠀⠠\n",
    "⠀⠀⠀⠀⢸⢀⣀⣀⣿⡉⣹⡇⡤⣴⢲⡒⣶⠴⡤⢤⣂⣀⡿⣡⠾⠯⠅⢠⣿⣷⣿⣿⣿⣿⣿⣿⣷⣦⣄⡂⠀⠀⢸⣷⣿⣿⡆⠀\n",
    "⠀⠀⠀⠀⢘⡤⠄⠤⢼⣿⣿⣿⡈⠈⠁⣗⠙⠛⠛⠛⠓⠛⠻⢿⠤⢄⠤⠤⣿⡟⣝⡇⣸⣿⣝⣮⣿⣿⣽⡟⢟⡟⣿⣿⣷⣿⠃⠀\n",
    "⠀⠀⠀⠀⠀⢿⣿⣣⣚⣿⣿⣿⣯⣶⣮⣽⣤⣄⠀⣰⣳⣤⣤⣻⣒⠛⡂⠐⢻⡱⢸⣧⣿⡟⡿⣿⠙⠁⣿⠈⠸⣿⣿⣿⣿⡟⠀⠀\n",
    "⠀⠀⠀⠀⠀⠈⢿⣷⣳⣚⣿⣟⡝⣿⣿⣿⣿⣯⣿⣿⣿⣿⣿⣿⣧⠀⢡⣈⠭⡆⢨⣿⣿⣇⢿⣿⣴⠄⣿⡦⢰⣿⣿⣿⡝⠀⠀⠀\n",
    "⠀⠀⠀⠀⠀⠀⠈⢷⣿⣷⣾⣿⣿⣿⣿⣿⣿⣿⣿⣿⣿⣿⣿⣿⣿⣿⣽⣿⣦⣆⢘⣿⣿⣿⣯⢿⣿⣜⣿⣧⠼⢿⣟⣹⠀⠄⠀⠀\n",
    "⠀⠀⠀⠀⠀⠀⠀⠀⠀⠀⠀⠈⠀⠀⠈⠀⠀⠀⠀⠉⠉⠁⠉⠉⠉⠋⠛⠛⠿⠿⠽⠛⠟⠙⠛⠁⠀⠁⠀⠀⠀⠀⠀⠀⠀⠀⠀⠀\n",
    "\"\"\")"
   ]
  },
  {
   "cell_type": "code",
   "execution_count": 19,
   "id": "1cf8c77e",
   "metadata": {},
   "outputs": [],
   "source": [
    "def boss_picture_dead():print(r\"\"\"\n",
    "                               ________________\n",
    "                          ____/ (  (    )   )  \\___\n",
    "                         /( (  (  )   _    ))  )   )\\\n",
    "                       ((     (   )(    )  )   (   )  )\n",
    "                     ((/  ( _(   )   (   _) ) (  () )  )\n",
    "                    ( (  ( (_)   ((    (   )  .((_ ) .  )_\n",
    "                   ( (  )    (      (  )    )   ) . ) (   )\n",
    "                  (  (   (  (   ) (  _  ( _) ).  ) . ) ) ( )\n",
    "                  ( (  (   ) (  )   (  ))     ) _)(   )  )  )\n",
    "                 ( (  ( \\ ) (    (_  ( ) ( )  )   ) )  )) ( )\n",
    "                  (  (   (  (   (_ ( ) ( _    )  ) (  )  )   )\n",
    "                 ( (  ( (  (  )     (_  )  ) )  _)   ) _( ( )\n",
    "                  ((  (   )(    (     _    )   _) _(_ (  (_ )\n",
    "                   (_((__(_(__(( ( ( |  ) ) ) )_))__))_)___)\n",
    "                   ((__)        \\\\||lll|l||///          \\_))\n",
    "                            (   /(/ (  )  ) )\\   )\n",
    "                          (    ( ( ( | | ) ) )\\   )\n",
    "                           (   /(| / ( )) ) ) )) )\n",
    "                         (     ( ((((_(|)_)))))     )\n",
    "                          (      ||\\(|(|)|/||     )\n",
    "                        (        |(||(||)||||        )\n",
    "                          (     //|/l|||)|\\\\ \\     )\n",
    "                        (/ / //  /|//||||\\\\  \\ \\  \\ _)\n",
    "-------------------------------------------------------------------------------\n",
    "\"\"\")"
   ]
  },
  {
   "cell_type": "code",
   "execution_count": 20,
   "id": "0656ced0",
   "metadata": {},
   "outputs": [],
   "source": [
    "def boss_prize():print(r\"\"\"\n",
    "⠀⠀⠀⠀⠀⠀⠀⠀⠀⠀⣀⡴⠚⣉⡙⠲⠦⠤⠤⣤⡀⠀⠀⠀⠀⠀⠀⠀⠀⠀\n",
    "⠀⠀⠀⠀⠀⠀⢀⣴⠛⠉⠉⠀⣾⣷⣿⡆⠀⠀⠀⠐⠛⠿⢟⡲⢦⡀⠀⠀⠀⠀\n",
    "⠀⠀⠀⠀⣠⢞⣭⠎⠀⠀⠀⠀⠘⠛⠛⠀⠀⢀⡀⠀⠀⠀⠀⠈⠓⠿⣄⠀⠀⠀\n",
    "⠀⠀⠀⡜⣱⠋⠀⠀⣠⣤⢄⠀⠀⠀⠀⠀⠀⣿⡟⣆⠀⠀⠀⠀⠀⠀⠻⢷⡄⠀\n",
    "⠀⢀⣜⠜⠁⠀⠀⠀⢿⣿⣷⣵⠀⠀⠀⠀⠀⠿⠿⠿⠀⠀⣴⣶⣦⡀⠀⠰⣹⡆\n",
    "⢀⡞⠆⠀⣀⡀⠀⠀⠘⠛⠉⠁⠀⠀⠀⠀⠀⠀⠀⠀⠀⠀⢿⣿⣶⠇⠀⢠⢻⡇\n",
    "⢸⠃⠘⣾⣏⡇⠀⠀⠀⠀⠀⠀⠀⡀⠀⠀⠀⠀⠀⠀⣠⣤⣤⡉⠁⠀⠀⠈⠫⣧\n",
    "⡸⡄⠀⠘⠟⠀⠀⠀⠀⠀⠀⣰⣿⣟⢧⠀⠀⠀⠀⠰⡿⣿⣿⢿⠀⠀⣰⣷⢡⢸\n",
    "⣿⡇⠀⠀⠀⣰⣿⡻⡆⠀⠀⠻⣿⣿⣟⠀⠀⠀⠀⠀⠉⠉⠉⠀⠀⠘⢿⡿⣸⡞\n",
    "⠹⣽⣤⣤⣤⣹⣿⡿⠇⠀⠀⠀⠀⠉⠁⠀⠀⠀⠀⠀⠀⠀⠀⠀⠀⠀⠀⡔⣽⠀\n",
    "⠀⠙⢻⡙⠟⣹⠟⢷⣶⣄⢀⣴⣶⣄⠀⠀⠀⠀⠀⢀⣤⡦⣄⠀⠀⢠⣾⢸⠏⠀\n",
    "⠀⠀⠘⠀⠀⠀⠀⠀⠈⢷⢼⣿⡿⡽⠀⠀⠀⠀⠀⠸⣿⣿⣾⠀⣼⡿⣣⠟⠀⠀\n",
    "⠀⠀⠀⠀⠀⠀⠀⠀⢠⡾⣆⠑⠋⠀⢀⣀⠀⠀⠀⠀⠈⠈⢁⣴⢫⡿⠁⠀⠀⠀\n",
    "⠀⠀⠀⠀⠀⠀⠀⠀⠈⠙⣧⣄⡄⠴⣿⣶⣿⢀⣤⠶⣞⣋⣩⣵⠏⠀⠀⠀⠀⠀\n",
    "⠀⠀⠀⠀⠀⠀⠀⠀⠀⢺⣿⢯⣭⣭⣯⣯⣥⡵⠿⠟⠛⠉⠉⠀⠀⠀⠀⠀⠀⠀\n",
    "\"\"\")"
   ]
  },
  {
   "cell_type": "markdown",
   "id": "340b10ed",
   "metadata": {},
   "source": [
    "##### Making the actual game board"
   ]
  },
  {
   "cell_type": "code",
   "execution_count": 21,
   "id": "a6ce311b",
   "metadata": {},
   "outputs": [],
   "source": [
    "def game_board():\n",
    "    clear_output()\n",
    "    if enemy_death(goblin_stats):\n",
    "        goblin_picture_dead()\n",
    "    else:\n",
    "        goblin_picture_alive()\n",
    "    \n",
    "    health_bar_enemy(goblin_stats)\n",
    "    \n",
    "    if player_death(player_stats):\n",
    "        knight_picture_dead()\n",
    "    else:\n",
    "        knight_picture_alive()\n",
    "        \n",
    "    health_bar_player()\n",
    "    print(f\"Items in your inventory: {inventory_bag} \\n \\n\")"
   ]
  },
  {
   "cell_type": "markdown",
   "id": "b9ebf2a9",
   "metadata": {},
   "source": [
    "# Testing grounds"
   ]
  },
  {
   "cell_type": "code",
   "execution_count": 22,
   "id": "3fdf08e5",
   "metadata": {},
   "outputs": [],
   "source": [
    "player_stats = {\"HP\" : 80, \"max HP\": 80, \"STR\" : 10}\n",
    "goblin_stats = {\"HP\" : 30, \"max HP\": 30, \"STR\" : 8}"
   ]
  },
  {
   "cell_type": "code",
   "execution_count": 23,
   "id": "dd9448c8",
   "metadata": {
    "scrolled": true
   },
   "outputs": [
    {
     "name": "stdout",
     "output_type": "stream",
     "text": [
      "{'HP': 80, 'max HP': 80, 'STR': 10}\n",
      "{'HP': 30, 'max HP': 30, 'STR': 8}\n"
     ]
    }
   ],
   "source": [
    "print(player_stats)\n",
    "print(goblin_stats)"
   ]
  },
  {
   "cell_type": "code",
   "execution_count": 24,
   "id": "07c8c82e",
   "metadata": {},
   "outputs": [
    {
     "data": {
      "text/plain": [
       "'\\nYou have dealt 6 damage and your opponent now has 14 health\\nYour opponent has dealt 8 damage to you and you now have 8 health\\n\\nYou have dealt 11 damage and your opponent now has 1 health\\nYour opponent has dealt 7 damage to you and you now have 56 health\\n\\nYou have dealt 7 damage and your opponent now has -7 health\\nYour opponent has dealt 5 damage to you and you now have 50 health\\nCongratulations! You have killed the goblin!\\n\\n'"
      ]
     },
     "execution_count": 24,
     "metadata": {},
     "output_type": "execute_result"
    }
   ],
   "source": [
    "# bottom\n",
    "\n",
    "\"\"\"\n",
    "You have dealt 11 damage and your opponent now has 18 health\n",
    "Your opponent has missed his attack\n",
    "\n",
    "You have dealt 6 damage and your opponent now has 12 health\n",
    "Your opponent has missed his attack\n",
    "\n",
    "You have dealt 12 damage and your opponent now has 17 health\n",
    "Your opponent has dealt 10 damage to you and you now have 40 healths\n",
    "\n",
    "You have missed your attack\n",
    "Your opponent has missed his attack\n",
    "\n",
    "You have missed your attack\n",
    "Your opponent has dealt 6 damage to you and you now have 2 health\n",
    "\n",
    "\"\"\"\n",
    "\n",
    "# top\n",
    "\n",
    "\"\"\"\n",
    "You have dealt 6 damage and your opponent now has 14 health\n",
    "Your opponent has dealt 8 damage to you and you now have 8 health\n",
    "\n",
    "You have dealt 11 damage and your opponent now has 1 health\n",
    "Your opponent has dealt 7 damage to you and you now have 56 health\n",
    "\n",
    "You have dealt 7 damage and your opponent now has -7 health\n",
    "Your opponent has dealt 5 damage to you and you now have 50 health\n",
    "Congratulations! You have killed the goblin!\n",
    "\n",
    "\"\"\""
   ]
  },
  {
   "cell_type": "markdown",
   "id": "ca01b67a",
   "metadata": {},
   "source": [
    "# Stray notes"
   ]
  },
  {
   "cell_type": "markdown",
   "id": "8ef069a1",
   "metadata": {},
   "source": [
    "### Not gonna use this right now but might come in handy:"
   ]
  },
  {
   "cell_type": "code",
   "execution_count": 25,
   "id": "a04659cd",
   "metadata": {},
   "outputs": [],
   "source": [
    "def attack_move_player(player_stats, enemy_stats):\n",
    "    current_dice = dice_roll()\n",
    "    if current_dice <= 5:\n",
    "        game_board()\n",
    "        print(\"Attack has missed\")\n",
    "    elif current_dice >= 18:\n",
    "        damage = ((20 * player_stats[\"STR\"]) / current_dice)\n",
    "        enemy_stats[\"HP\"] -= damage\n",
    "        game_board()\n",
    "        print(f\"You have dealt {math.floor(damage)} damage and your opponent now has {math.floor(enemy_stats['HP'])} health\")\n",
    "    else:\n",
    "        damage = ((20 * player_stats[\"STR\"]) / current_dice) / 2\n",
    "        enemy_stats[\"HP\"] -= damage\n",
    "        game_board()\n",
    "        print(f\"You have dealt {math.floor(damage)} damage and your opponent now has {math.floor(enemy_stats['HP'])} health\")"
   ]
  },
  {
   "cell_type": "code",
   "execution_count": null,
   "id": "13119b8c",
   "metadata": {},
   "outputs": [],
   "source": [
    "def attack_move_enemy(player_stats, enemy_stats):\n",
    "    current_dice = dice_roll()\n",
    "    if current_dice <= 5:\n",
    "        game_board()\n",
    "        print(\"The opponent's attack has missed\")\n",
    "    elif current_dice >= 18:\n",
    "        damage = ((20 * enemy_stats[\"STR\"]) / current_dice)\n",
    "        player_stats[\"HP\"] -= damage\n",
    "        game_board()\n",
    "        print(f\"Your opponent has dealt {math.floor(damage)} damage to you and you now have {math.floor(player_stats['HP'])} health\")\n",
    "    else:\n",
    "        damage = ((20 * enemy_stats[\"STR\"]) / current_dice) / 2\n",
    "        player_stats[\"HP\"] -= damage\n",
    "        game_board()\n",
    "        print(f\"Your opponent has dealt {math.floor(damage)} damage to you and you now have {math.floor(player_stats['HP'])} health\")"
   ]
  },
  {
   "cell_type": "code",
   "execution_count": 161,
   "id": "452692d4",
   "metadata": {
    "scrolled": false
   },
   "outputs": [
    {
     "name": "stdout",
     "output_type": "stream",
     "text": [
      "Your opponent has dealt 4 damage to you and you now have -54 health\n"
     ]
    }
   ],
   "source": [
    "# When a player blocks the enemys' attack\n",
    "\n",
    "defend_move_player(player_stats, goblin_stats)"
   ]
  },
  {
   "cell_type": "code",
   "execution_count": 126,
   "id": "848d5712",
   "metadata": {},
   "outputs": [
    {
     "name": "stdout",
     "output_type": "stream",
     "text": [
      "The opponent's attack has missed\n"
     ]
    }
   ],
   "source": [
    "# The enemy attacks\n",
    "\n",
    "attack_move_enemy(player_stats, goblin_stats)"
   ]
  }
 ],
 "metadata": {
  "kernelspec": {
   "display_name": "Python 3 (ipykernel)",
   "language": "python",
   "name": "python3"
  },
  "language_info": {
   "codemirror_mode": {
    "name": "ipython",
    "version": 3
   },
   "file_extension": ".py",
   "mimetype": "text/x-python",
   "name": "python",
   "nbconvert_exporter": "python",
   "pygments_lexer": "ipython3",
   "version": "3.11.4"
  }
 },
 "nbformat": 4,
 "nbformat_minor": 5
}
