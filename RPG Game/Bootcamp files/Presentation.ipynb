{
 "cells": [
  {
   "cell_type": "markdown",
   "id": "d513d194",
   "metadata": {},
   "source": [
    "## Current main objectives"
   ]
  },
  {
   "cell_type": "code",
   "execution_count": 1,
   "id": "9e556b38",
   "metadata": {},
   "outputs": [],
   "source": [
    "# Make boss character\n",
    "# Fix input going up and down when it should just be going down\n",
    "# Fix enemy health bar\n",
    "# HP of player goes above 100% if you drink a potion"
   ]
  },
  {
   "cell_type": "markdown",
   "id": "06b04bda",
   "metadata": {},
   "source": [
    "## Completed objectives"
   ]
  },
  {
   "cell_type": "code",
   "execution_count": null,
   "id": "83c8c302",
   "metadata": {},
   "outputs": [],
   "source": [
    "# (very) Simple DND based combat:\n",
    "        # Death state\n",
    "        # Randomizer for the damage each hit does\n",
    "        # Menus\n",
    "# Make shoop da woop item\n",
    "# Make health potion item\n",
    "# Stats of player character\n",
    "    # Mostly STR, VIT\n",
    "# Stats of several different NPC's\n",
    "    # Can be a bit more basic here but yea, it's mostly the same\n",
    "# I also need to do some visual presentation using the clear_output() command"
   ]
  },
  {
   "cell_type": "markdown",
   "id": "54ee592c",
   "metadata": {},
   "source": [
    "## What i've learned"
   ]
  },
  {
   "cell_type": "code",
   "execution_count": null,
   "id": "fe767260",
   "metadata": {},
   "outputs": [],
   "source": [
    "# What they told us from planning it out from the beggining, it is true, i ran into problems when trying to implement the \n",
    "# Plan from the beggining -> Issue with game_board() where to actually put it -> Only had that problem because i didn't plan ahead\n",
    "\n",
    "# game_board() function after a while, although i couldn't really imagine the project at first so i couldn't prepare for it.\n",
    "# maybe talk a little about how you solved it:\n",
    "    # I tried to find where to fit the function but couldn't find it, eventually found the solution to put it in the attack\n",
    "    # function, although i had to alter it to make both characters attack in the same function, this experience in problem\n",
    "    # solving was excellent."
   ]
  },
  {
   "cell_type": "code",
   "execution_count": null,
   "id": "3742a137",
   "metadata": {},
   "outputs": [],
   "source": [
    "# Dopamine rush of:\n",
    "# Every extra layer i do i learn so much more and explore different options"
   ]
  }
 ],
 "metadata": {
  "kernelspec": {
   "display_name": "Python 3 (ipykernel)",
   "language": "python",
   "name": "python3"
  },
  "language_info": {
   "codemirror_mode": {
    "name": "ipython",
    "version": 3
   },
   "file_extension": ".py",
   "mimetype": "text/x-python",
   "name": "python",
   "nbconvert_exporter": "python",
   "pygments_lexer": "ipython3",
   "version": "3.11.4"
  }
 },
 "nbformat": 4,
 "nbformat_minor": 5
}
