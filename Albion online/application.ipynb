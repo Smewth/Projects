{
 "cells": [
  {
   "cell_type": "markdown",
   "metadata": {},
   "source": [
    "First draft of the program given to me by blackbox"
   ]
  },
  {
   "cell_type": "code",
   "execution_count": 1,
   "metadata": {},
   "outputs": [],
   "source": [
    "import tkinter as tk\n",
    "import csv\n",
    "\n",
    "def write_to_csv():\n",
    "    with open('output.csv', 'w', newline='') as file:\n",
    "        writer = csv.writer(file)\n",
    "        writer.writerow([entry.get() for entry in entries])\n",
    "\n",
    "root = tk.Tk()\n",
    "entries = []\n",
    "\n",
    "data_to_enter = {'tier2%' : 20, 'tier3%' : 20, 'tier4%' : 0, 'tier5%' : 0, 'serverTime' : 0, 'mapTier' : 0, 'mountMove' : 0, 'mountGallop' : 0}\n",
    "\n",
    "for i in range(3):\n",
    "    entry = tk.Entry(root)\n",
    "    entry.pack()\n",
    "    entries.append(entry)\n",
    "\n",
    "button = tk.Button(root, text=\"Write to CSV\", command=write_to_csv)\n",
    "button.pack()\n",
    "\n",
    "root.mainloop()"
   ]
  },
  {
   "cell_type": "markdown",
   "metadata": {},
   "source": [
    "Updated with more specific instructions"
   ]
  },
  {
   "cell_type": "code",
   "execution_count": null,
   "metadata": {},
   "outputs": [],
   "source": [
    "import tkinter as tk\n",
    "import csv\n",
    "\n",
    "def write_to_csv():\n",
    "    data = {entry['label'].get(): entry['input'].get() for entry in entries}\n",
    "    with open('output.csv', 'w', newline='') as file:\n",
    "        writer = csv.DictWriter(file, fieldnames=data.keys())\n",
    "        writer.writeheader()\n",
    "        writer.writerow(data)\n",
    "\n",
    "root = tk.Tk()\n",
    "\n",
    "entries = []\n",
    "for key in ['Name', 'Age', 'Email']:\n",
    "    label = tk.Label(root, text=key)\n",
    "    label.pack()\n",
    "    entry = tk.Entry(root)\n",
    "    entry.pack()\n",
    "    entries.append({'label': label, 'input': entry})\n",
    "\n",
    "button = tk.Button(root, text=\"Write to CSV\", command=write_to_csv)\n",
    "button.pack()\n",
    "\n",
    "root.mainloop()"
   ]
  }
 ],
 "metadata": {
  "kernelspec": {
   "display_name": "Python 3",
   "language": "python",
   "name": "python3"
  },
  "language_info": {
   "codemirror_mode": {
    "name": "ipython",
    "version": 3
   },
   "file_extension": ".py",
   "mimetype": "text/x-python",
   "name": "python",
   "nbconvert_exporter": "python",
   "pygments_lexer": "ipython3",
   "version": "3.12.1"
  }
 },
 "nbformat": 4,
 "nbformat_minor": 2
}
