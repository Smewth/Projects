{
 "cells": [
  {
   "cell_type": "code",
   "execution_count": 3,
   "metadata": {},
   "outputs": [
    {
     "name": "stdout",
     "output_type": "stream",
     "text": [
      "{'Black Market': {'T4_2H_DOUBLEBLADEDSTAFF': 0}}\n"
     ]
    }
   ],
   "source": [
    "import requests\n",
    "import json\n",
    "\n",
    "#cities = ['Fort%20Sterling', 'Thetford', 'Lymhurst', 'Bridgewatch', 'Martlock']\n",
    "#items = ['T4_2H_DOUBLEBLADEDSTAFF', 'T4_METALBAR', 'T4_LEATHER']\n",
    "\n",
    "cities = ['Black Market']\n",
    "items = ['T4_2H_DOUBLEBLADEDSTAFF']\n",
    "\n",
    "def price_check(city, item):\n",
    "    url = f'https://west.albion-online-data.com/api/v2/stats/Prices/{item}.json?locations={city}&qualities=0'\n",
    "    response = requests.get(url)\n",
    "    data = json.loads(response.text)\n",
    "\n",
    "    sell_price_min = data[0]['sell_price_min']\n",
    "    return sell_price_min\n",
    "\n",
    "def scrape_cities():\n",
    "    result = {}\n",
    "    for city in cities:\n",
    "        for item in items:\n",
    "            sell_price_min = price_check(city, item)\n",
    "            if city not in result:\n",
    "                result[city] = {}\n",
    "            result[city][item] = sell_price_min\n",
    "    return result\n",
    "\n",
    "print(scrape_cities())"
   ]
  },
  {
   "cell_type": "markdown",
   "metadata": {},
   "source": [
    "## Maximum price out of all Cities ( Good to figure out where to sell)"
   ]
  },
  {
   "cell_type": "code",
   "execution_count": 2,
   "metadata": {},
   "outputs": [
    {
     "name": "stdout",
     "output_type": "stream",
     "text": [
      "T8_RANDOM_DUNGEON_SOLO_TOKEN_1 = 39013 (City: Thetford)\n"
     ]
    }
   ],
   "source": [
    "import requests\n",
    "import json\n",
    "\n",
    "cities = ['Fort%20Sterling', 'Thetford', 'Lymhurst', 'Bridgewatch', 'Martlock']\n",
    "\n",
    "#items = ['T8_ORE', 'T7_ORE', 'T7_ORE_LEVEL1@1', 'T6_ORE_LEVEL1@1', 'T6_ORE', 'T6_ORE_LEVEL2@2', 'T6_ORE_LEVEL3@3', 'T5_ORE', 'T5_ORE_LEVEL1@1','T5_ORE_LEVEL2@2', 'T4_ORE', 'T4_ORE_LEVEL1@1', 'T4_ORE_LEVEL2@2']\n",
    "\n",
    "#items = ['T6_FARM_POTATO_SEED', 'T6_POTATO']\n",
    "\n",
    "items = ['T8_RANDOM_DUNGEON_SOLO_TOKEN_1']\n",
    "\n",
    "def scraper(city, item):\n",
    "    url = f'https://europe.albion-online-data.com/api/v2/stats/Prices/{item}.json?locations={city}&qualities=0'\n",
    "    response = requests.get(url)\n",
    "    data = json.loads(response.text)\n",
    "\n",
    "    sell_price_min = data[0]['sell_price_min']\n",
    "    return sell_price_min\n",
    "\n",
    "def scrape_cities():\n",
    "    result = {}\n",
    "    max_values = {}\n",
    "    for city in cities:\n",
    "        for item in items:\n",
    "            sell_price_min = scraper(city, item)\n",
    "            if city not in result:\n",
    "                result[city] = {}\n",
    "            result[city][item] = sell_price_min\n",
    "            if item not in max_values or sell_price_min > max_values[item]:\n",
    "                max_values[item] = sell_price_min\n",
    "                max_city = city\n",
    "    return result, max_values\n",
    "\n",
    "result, max_values = scrape_cities()\n",
    "for item, max_value in max_values.items():\n",
    "    max_city = [city for city, values in result.items() if values[item] == max_value][0]\n",
    "    print(f\"{item} = {max_value} (City: {max_city})\")"
   ]
  },
  {
   "cell_type": "markdown",
   "metadata": {},
   "source": [
    "## Minimum sell price out of all cities (Good to figure out where to buy)"
   ]
  },
  {
   "cell_type": "code",
   "execution_count": 4,
   "metadata": {},
   "outputs": [
    {
     "name": "stdout",
     "output_type": "stream",
     "text": [
      "T8_RANDOM_DUNGEON_SOLO_TOKEN_1 = 12590 (City: Lymhurst)\n"
     ]
    }
   ],
   "source": [
    "import requests\n",
    "import json\n",
    "\n",
    "cities = ['Fort%20Sterling', 'Thetford', 'Lymhurst', 'Bridgewatch', 'Martlock']\n",
    "items = ['T8_RANDOM_DUNGEON_SOLO_TOKEN_1']\n",
    "\n",
    "def price_check(city, item):\n",
    "    url = f'https://west.albion-online-data.com/api/v2/stats/Prices/{item}.json?locations={city}&qualities=0'\n",
    "    response = requests.get(url)\n",
    "    data = json.loads(response.text)\n",
    "\n",
    "    sell_price_min = data[0]['sell_price_min']\n",
    "    if sell_price_min == 0:\n",
    "        return None, city\n",
    "    return sell_price_min, city\n",
    "\n",
    "def scrape_cities():\n",
    "    result = {}\n",
    "    min_values = {}\n",
    "    for city in cities:\n",
    "        for item in items:\n",
    "            sell_price_min, city_min = price_check(city, item)\n",
    "            if sell_price_min is None:\n",
    "                continue\n",
    "            if city not in result:\n",
    "                result[city] = {}\n",
    "            result[city][item] = sell_price_min\n",
    "            if item not in min_values or sell_price_min < min_values[item][0]:\n",
    "                min_values[item] = (sell_price_min, city_min)\n",
    "    return result, min_values\n",
    "\n",
    "result, min_values = scrape_cities()\n",
    "for item, (min_value, city) in min_values.items():\n",
    "    print(f\"{item} = {min_value} (City: {city})\")"
   ]
  },
  {
   "cell_type": "code",
   "execution_count": null,
   "metadata": {},
   "outputs": [],
   "source": []
  },
  {
   "cell_type": "code",
   "execution_count": null,
   "metadata": {},
   "outputs": [],
   "source": []
  },
  {
   "cell_type": "code",
   "execution_count": null,
   "metadata": {},
   "outputs": [],
   "source": []
  }
 ],
 "metadata": {
  "kernelspec": {
   "display_name": "Python 3",
   "language": "python",
   "name": "python3"
  },
  "language_info": {
   "codemirror_mode": {
    "name": "ipython",
    "version": 3
   },
   "file_extension": ".py",
   "mimetype": "text/x-python",
   "name": "python",
   "nbconvert_exporter": "python",
   "pygments_lexer": "ipython3",
   "version": "3.12.1"
  }
 },
 "nbformat": 4,
 "nbformat_minor": 2
}
